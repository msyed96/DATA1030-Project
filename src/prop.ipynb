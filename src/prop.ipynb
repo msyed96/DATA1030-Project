{
 "cells": [
  {
   "cell_type": "code",
   "execution_count": 44,
   "metadata": {},
   "outputs": [
    {
     "data": {
      "text/plain": [
       "(395, 33)"
      ]
     },
     "execution_count": 44,
     "metadata": {},
     "output_type": "execute_result"
    }
   ],
   "source": [
    "import pandas as pd\n",
    "df_orig = pd.read_csv('student.csv', delimiter = ';')\n",
    "df_orig.head()\n",
    "\n",
    "df_orig.shape\n",
    "\n"
   ]
  },
  {
   "cell_type": "code",
   "execution_count": 18,
   "metadata": {},
   "outputs": [],
   "source": [
    "cat_ftrs = ['school','sex','address','Pstatus','famsize','schoolsup','famsup','paid','activities','nursery',\n",
    "                'Mjob', 'Fjob','reason', 'guardian', 'higher', 'internet', 'romantic']\n",
    "ordinal_ftrs = ['Medu', 'Fedu', 'health','freetime', 'goout','famrel' 'Dalc', 'Walc', \n",
    "                'traveltime','studytime', 'failures'] #already pre processd\n",
    "num_ftrs = ['age','absences', 'G1', 'G2']"
   ]
  },
  {
   "cell_type": "code",
   "execution_count": 46,
   "metadata": {},
   "outputs": [],
   "source": [
    "# read the data\n",
    "import pandas as pd\n",
    "import numpy  as np\n",
    "from sklearn.preprocessing import OneHotEncoder\n",
    "from sklearn.preprocessing import OrdinalEncoder\n",
    "from sklearn.preprocessing import StandardScaler\n",
    "from sklearn.impute import SimpleImputer\n",
    "from sklearn.preprocessing import LabelEncoder\n",
    "from sklearn.preprocessing import MinMaxScaler\n",
    "\n",
    "# one-hot encoder\n",
    "ohe = OneHotEncoder(sparse=False)\n",
    "cat_values = ohe.fit_transform(df_orig[cat_ftrs])\n",
    "cat_ftr_names = ohe.get_feature_names()\n",
    "df_cat = pd.DataFrame(data=cat_values,columns = cat_ftr_names)\n",
    "#df_cat.head()\n",
    "\n",
    "#MinMaxScaler\n",
    "mmscaler = MinMaxScaler()\n",
    "num_values = mmscaler.fit_transform(df_orig[num_ftrs])\n",
    "df_num = pd.DataFrame(data=num_values,columns = num_ftrs)\n",
    "#df_num.head()\n",
    "\n"
   ]
  },
  {
   "cell_type": "code",
   "execution_count": 25,
   "metadata": {},
   "outputs": [
    {
     "data": {
      "text/plain": [
       "(395, 59)"
      ]
     },
     "execution_count": 25,
     "metadata": {},
     "output_type": "execute_result"
    }
   ],
   "source": [
    "df_preprocessed = pd.concat([df_cat,df_num],axis=1)\n",
    "\n",
    "df_preprocessed['Medu'] = df_orig['Medu']\n",
    "df_preprocessed['Fedu'] = df_orig['Fedu']\n",
    "df_preprocessed['health'] = df_orig['health']\n",
    "df_preprocessed['freetime'] = df_orig['freetime']\n",
    "df_preprocessed['goout'] = df_orig['goout']\n",
    "df_preprocessed['famrel'] = df_orig['famrel']\n",
    "df_preprocessed['Dalc'] = df_orig['Dalc']\n",
    "df_preprocessed['Walc'] = df_orig['Walc']\n",
    "df_preprocessed['traveltime'] = df_orig['traveltime']\n",
    "df_preprocessed['studytime'] = df_orig['studytime']\n",
    "df_preprocessed['failures'] = df_orig['failures']\n",
    "df_preprocessed['G3'] = df_orig['G3']\n",
    "\n",
    "df_preprocessed.shape\n"
   ]
  },
  {
   "cell_type": "code",
   "execution_count": 37,
   "metadata": {},
   "outputs": [],
   "source": [
    "export_csv = df_preprocessed.to_csv (r'sheet.csv', index = None, header=True) #Don't forget to add '.csv' at the end of the path\n"
   ]
  },
  {
   "cell_type": "code",
   "execution_count": 40,
   "metadata": {},
   "outputs": [],
   "source": []
  },
  {
   "cell_type": "code",
   "execution_count": null,
   "metadata": {},
   "outputs": [],
   "source": []
  }
 ],
 "metadata": {
  "kernelspec": {
   "display_name": "Python 3",
   "language": "python",
   "name": "python3"
  },
  "language_info": {
   "codemirror_mode": {
    "name": "ipython",
    "version": 3
   },
   "file_extension": ".py",
   "mimetype": "text/x-python",
   "name": "python",
   "nbconvert_exporter": "python",
   "pygments_lexer": "ipython3",
   "version": "3.7.3"
  }
 },
 "nbformat": 4,
 "nbformat_minor": 4
}
