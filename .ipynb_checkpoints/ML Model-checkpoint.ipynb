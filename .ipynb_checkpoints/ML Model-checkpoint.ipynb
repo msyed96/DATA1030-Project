{
 "cells": [
  {
   "cell_type": "markdown",
   "metadata": {},
   "source": [
    "## Data 1030 : Project Code: "
   ]
  },
  {
   "cell_type": "markdown",
   "metadata": {},
   "source": [
    "##### Import data:"
   ]
  },
  {
   "cell_type": "code",
   "execution_count": 16,
   "metadata": {},
   "outputs": [
    {
     "name": "stdout",
     "output_type": "stream",
     "text": [
      "  school sex  age address famsize Pstatus  Medu  Fedu     Mjob      Fjob  ...  \\\n",
      "0     GP   F   18       U     GT3       A     4     4  at_home   teacher  ...   \n",
      "1     GP   F   17       U     GT3       T     1     1  at_home     other  ...   \n",
      "2     GP   F   15       U     LE3       T     1     1  at_home     other  ...   \n",
      "3     GP   F   15       U     GT3       T     4     2   health  services  ...   \n",
      "4     GP   F   16       U     GT3       T     3     3    other     other  ...   \n",
      "\n",
      "  famrel freetime  goout  Dalc  Walc health absences  G1  G2  G3  \n",
      "0      4        3      4     1     1      3        6   5   6   6  \n",
      "1      5        3      3     1     1      3        4   5   5   6  \n",
      "2      4        3      2     2     3      3       10   7   8  10  \n",
      "3      3        2      2     1     1      5        2  15  14  15  \n",
      "4      4        3      2     1     2      5        4   6  10  10  \n",
      "\n",
      "[5 rows x 33 columns]\n"
     ]
    }
   ],
   "source": [
    "import pandas as pd\n",
    "import matplotlib\n",
    "import numpy as np\n",
    "from matplotlib import pylab as plt\n",
    "from sklearn.svm import SVC\n",
    "from sklearn.model_selection import StratifiedKFold\n",
    "from sklearn.pipeline import Pipeline\n",
    "from sklearn.pipeline import make_pipeline\n",
    "from sklearn.compose import ColumnTransformer\n",
    "from sklearn.model_selection import GroupKFold\n",
    "from sklearn.model_selection import GroupShuffleSplit\n",
    "from sklearn.model_selection import GridSearchCV\n",
    "from sklearn.pipeline import make_pipeline\n",
    "from sklearn.metrics import make_scorer\n",
    "from sklearn.model_selection import train_test_split\n",
    "from sklearn.model_selection import KFold\n",
    "from sklearn.preprocessing import StandardScaler\n",
    "from sklearn.linear_model import Ridge\n",
    "from sklearn.metrics import mean_squared_error\n",
    "from sklearn.preprocessing import OneHotEncoder\n",
    "import matplotlib.pyplot as plt\n",
    "from sklearn.linear_model import LogisticRegression\n",
    "from sklearn.metrics import confusion_matrix\n",
    "from sklearn.metrics import precision_score, recall_score, accuracy_score, fbeta_score\n",
    "import warnings\n",
    "warnings.filterwarnings(\"ignore\", category=FutureWarning)\n",
    "\n",
    "df= pd.read_csv('student-mat.csv', delimiter = ';')\n",
    "print(df.head())"
   ]
  },
  {
   "cell_type": "markdown",
   "metadata": {},
   "source": [
    "##### G3 <10 is Fail while G3 >= 10 = Pass:"
   ]
  },
  {
   "cell_type": "code",
   "execution_count": 27,
   "metadata": {},
   "outputs": [],
   "source": [
    "df['G3'] = df['G3'].map({0:'<10', 1:'<10', 2:'<10' , 3:'<10', 4:'<10', 5:'<10', 6:'<10', 7:'<10', \n",
    "                                   8:'<10',9:'<10',10:'>=10',11:'>=10', 12:'>=10',13:'>=10',14:'>=10',15:'>=10',\n",
    "                                   16:'>=10',17:'>=10',18:'>=10',19:'>=10', 20:'>=10'})\n"
   ]
  },
  {
   "cell_type": "markdown",
   "metadata": {},
   "source": [
    "##### Label Encoding on Target Variable:"
   ]
  },
  {
   "cell_type": "code",
   "execution_count": 29,
   "metadata": {},
   "outputs": [
    {
     "name": "stderr",
     "output_type": "stream",
     "text": [
      "/opt/conda/lib/python3.7/site-packages/sklearn/preprocessing/label.py:235: DataConversionWarning: A column-vector y was passed when a 1d array was expected. Please change the shape of y to (n_samples, ), for example using ravel().\n",
      "  y = column_or_1d(y, warn=True)\n"
     ]
    }
   ],
   "source": [
    "from sklearn.preprocessing import LabelEncoder\n",
    "le = LabelEncoder()\n",
    "class_values = le.fit_transform(df[['G3']])\n",
    "df_class= pd.DataFrame(class_values)\n"
   ]
  },
  {
   "cell_type": "code",
   "execution_count": 30,
   "metadata": {},
   "outputs": [],
   "source": [
    "df['G3'] = df_class"
   ]
  },
  {
   "cell_type": "markdown",
   "metadata": {},
   "source": [
    "#### Preparing X and y for my Machine learning Pipeline & Calculating Balance of the data:\n",
    "##### Keep in mind that I have three models \n",
    "        - Model I: Includes G1, G2 \n",
    "        - Model II: Includes G1\n",
    "        - Model III: Does not include G1 or G2"
   ]
  },
  {
   "cell_type": "markdown",
   "metadata": {},
   "source": [
    "## Model I: With G1 and G2\n",
    "##### Model I:  X and y values, Balance"
   ]
  },
  {
   "cell_type": "code",
   "execution_count": 35,
   "metadata": {},
   "outputs": [
    {
     "name": "stdout",
     "output_type": "stream",
     "text": [
      "balance: 0.6708860759493671\n"
     ]
    },
    {
     "data": {
      "text/plain": [
       "Index(['school', 'sex', 'age', 'address', 'famsize', 'Pstatus', 'Medu', 'Fedu',\n",
       "       'Mjob', 'Fjob', 'reason', 'guardian', 'traveltime', 'studytime',\n",
       "       'failures', 'schoolsup', 'famsup', 'paid', 'activities', 'nursery',\n",
       "       'higher', 'internet', 'romantic', 'famrel', 'freetime', 'goout', 'Dalc',\n",
       "       'Walc', 'health', 'absences', 'G1', 'G2'],\n",
       "      dtype='object')"
      ]
     },
     "execution_count": 35,
     "metadata": {},
     "output_type": "execute_result"
    }
   ],
   "source": [
    "X = df.loc[:, df.columns != 'G3']\n",
    "y = df['G3']\n",
    "\n",
    "classes, counts = np.unique(y,return_counts=True)\n",
    "print('balance:',np.max(counts/len(y)))\n",
    "ftr_names= X.columns\n"
   ]
  },
  {
   "cell_type": "markdown",
   "metadata": {},
   "source": [
    "##### Model I Logistic Regression"
   ]
  },
  {
   "cell_type": "code",
   "execution_count": 48,
   "metadata": {},
   "outputs": [],
   "source": [
    "###Logistic Regression parameter tuning for model I: \n",
    "\n",
    "def ML_pipeline_kfold_GridSearchCV_logistic(X,y,random_state,n_folds):\n",
    "    # create a test set\n",
    "    X_other, X_test, y_other, y_test = train_test_split(X, y, test_size=0.2, random_state = random_state)\n",
    "    # splitter for _other\n",
    "    kf = KFold(n_splits=n_folds,shuffle=True,random_state=random_state)\n",
    "    \n",
    "    cat_ftrs = ['school','sex','address','Pstatus','famsize','schoolsup','famsup','paid','activities','nursery',\n",
    "                    'Mjob', 'Fjob','reason', 'guardian', 'higher', 'internet', 'romantic']\n",
    "    ordinal_ftrs = ['Medu', 'Fedu', 'health','freetime', 'goout','famrel' 'Dalc', 'Walc', \n",
    "                'traveltime','studytime', 'failures'] #already pre processd\n",
    "    num_ftrs = ['age','absences','G1','G2']\n",
    "    label = ['G3']\n",
    "    \n",
    "    cat_ftrs_i = [df.columns.get_loc(x) for x in cat_ftrs]\n",
    "    num_ftrs_i = [df.columns.get_loc(x) for x in num_ftrs]\n",
    "\n",
    "    categorical_transformer = Pipeline(steps=[('onehot', OneHotEncoder(sparse=False))])\n",
    "    numeric_transformer = Pipeline(steps=[('scaler', StandardScaler())])\n",
    "    \n",
    "    # collect the transformers\n",
    "    preprocessor = ColumnTransformer(\n",
    "        transformers=[\n",
    "            ('num', numeric_transformer, num_ftrs_i),\n",
    "            ('cat', categorical_transformer, cat_ftrs_i)])\n",
    "\n",
    "    pipe = make_pipeline(preprocessor, LogisticRegression(penalty='l1', solver='saga', max_iter=10000, random_state = 20))\n",
    "\n",
    "    # the parameter(s) we want to tune\n",
    "    param_grid = {'logisticregression__C': np.logspace(-2,2, num=8)} \n",
    "    # prepare gridsearch\n",
    "    grid = GridSearchCV(pipe, param_grid=param_grid,scoring = make_scorer(accuracy_score),\n",
    "                        cv=kf, return_train_score = True,iid=True)\n",
    "    # do kfold CV on _other\n",
    "    grid.fit(X_other, y_other)\n",
    "    \n",
    "    feature_names = num_ftrs + \\\n",
    "                list(grid.best_estimator_[0].named_transformers_['cat'][0].get_feature_names(cat_ftrs))\n",
    "    return grid, grid.score(X_test, y_test), np.array(feature_names), X_test, y_test\n",
    "    "
   ]
  },
  {
   "cell_type": "code",
   "execution_count": 49,
   "metadata": {},
   "outputs": [
    {
     "name": "stdout",
     "output_type": "stream",
     "text": [
      "{'logisticregression__C': 0.13894954943731375}\n",
      "0\n",
      "best CV score: 0.9113924050632911\n",
      "test score: 0.8607594936708861\n",
      "{'logisticregression__C': 0.517947467923121}\n",
      "1\n",
      "best CV score: 0.9367088607594937\n",
      "test score: 0.8734177215189873\n",
      "{'logisticregression__C': 0.517947467923121}\n",
      "2\n",
      "best CV score: 0.9208860759493671\n",
      "test score: 0.8860759493670886\n",
      "{'logisticregression__C': 1.9306977288832496}\n",
      "3\n",
      "best CV score: 0.9208860759493671\n",
      "test score: 0.8860759493670886\n",
      "{'logisticregression__C': 0.517947467923121}\n",
      "4\n",
      "best CV score: 0.9272151898734177\n",
      "test score: 0.8860759493670886\n",
      "{'logisticregression__C': 0.517947467923121}\n",
      "5\n",
      "best CV score: 0.9145569620253164\n",
      "test score: 0.8860759493670886\n",
      "{'logisticregression__C': 0.517947467923121}\n",
      "6\n",
      "best CV score: 0.9430379746835443\n",
      "test score: 0.9113924050632911\n",
      "{'logisticregression__C': 0.517947467923121}\n",
      "7\n",
      "best CV score: 0.9272151898734177\n",
      "test score: 0.9367088607594937\n",
      "{'logisticregression__C': 0.517947467923121}\n",
      "8\n",
      "best CV score: 0.9208860759493671\n",
      "test score: 0.8734177215189873\n",
      "{'logisticregression__C': 1.9306977288832496}\n",
      "9\n",
      "best CV score: 0.930379746835443\n",
      "test score: 0.9367088607594937\n",
      "test accuracy: 0.8936708860759494 +/- 0.024804959420589145\n"
     ]
    }
   ],
   "source": [
    "#print confusion_matrix(y, y_pred)\n",
    "test_scores = []\n",
    "\n",
    "for i in range(10):\n",
    "    grid, test_score,feature_names, X_test, y_test = ML_pipeline_kfold_GridSearchCV_logistic(X,y,i*19, 5)\n",
    "    print(grid.best_params_)\n",
    "    print(i)\n",
    "    print('best CV score:',grid.best_score_)\n",
    "    print('test score:',test_score)\n",
    "    test_scores.append(test_score)\n",
    "print('test accuracy:',np.mean(test_scores),'+/-',np.std(test_scores))\n"
   ]
  },
  {
   "cell_type": "code",
   "execution_count": 42,
   "metadata": {},
   "outputs": [
    {
     "name": "stdout",
     "output_type": "stream",
     "text": [
      "0.9272151898734177\n",
      "0.9367088607594937\n",
      "{'logisticregression__C': 0.517947467923121}\n"
     ]
    }
   ],
   "source": [
    "grid, test_score, feature_names, X_test, y_test= ML_pipeline_kfold_GridSearchCV_logistic(X,y,7*19,5)\n",
    "print(grid.best_score_)\n",
    "print(grid.score(X_test,y_test))\n",
    "print(grid.best_params_)"
   ]
  },
  {
   "cell_type": "code",
   "execution_count": 43,
   "metadata": {
    "collapsed": true,
    "jupyter": {
     "outputs_hidden": true
    }
   },
   "outputs": [
    {
     "name": "stdout",
     "output_type": "stream",
     "text": [
      "Pipeline(memory=None,\n",
      "         steps=[('columntransformer',\n",
      "                 ColumnTransformer(n_jobs=None, remainder='drop',\n",
      "                                   sparse_threshold=0.3,\n",
      "                                   transformer_weights=None,\n",
      "                                   transformers=[('num',\n",
      "                                                  Pipeline(memory=None,\n",
      "                                                           steps=[('scaler',\n",
      "                                                                   StandardScaler(copy=True,\n",
      "                                                                                  with_mean=True,\n",
      "                                                                                  with_std=True))],\n",
      "                                                           verbose=False),\n",
      "                                                  [2, 29, 30, 31]),\n",
      "                                                 ('cat',\n",
      "                                                  Pipeline(memory=None,\n",
      "                                                           steps=[('onehot',\n",
      "                                                                   OneHotEncoder(cate...\n",
      "                                                  [0, 1, 3, 5, 4, 15, 16, 17,\n",
      "                                                   18, 19, 8, 9, 10, 11, 20, 21,\n",
      "                                                   22])],\n",
      "                                   verbose=False)),\n",
      "                ('logisticregression',\n",
      "                 LogisticRegression(C=0.517947467923121, class_weight=None,\n",
      "                                    dual=False, fit_intercept=True,\n",
      "                                    intercept_scaling=1, l1_ratio=None,\n",
      "                                    max_iter=10000, multi_class='warn',\n",
      "                                    n_jobs=None, penalty='l1', random_state=20,\n",
      "                                    solver='saga', tol=0.0001, verbose=0,\n",
      "                                    warm_start=False))],\n",
      "         verbose=False)\n",
      "0.9272151898734177\n",
      "3\n",
      "[[20  1]\n",
      " [ 4 54]]\n",
      "[[0.95238095 0.04761905]\n",
      " [0.06896552 0.93103448]]\n"
     ]
    }
   ],
   "source": [
    "print(grid.best_estimator_)\n",
    "print(grid.best_score_)\n",
    "print(grid.best_index_)\n",
    "y_pred = grid.best_estimator_.predict(X_test)\n",
    "conf_mat = confusion_matrix(y_test, y_pred)\n",
    "print(conf_mat)\n",
    "normalized_conf_mat = conf_mat.astype('float') / conf_mat.sum(axis=1)[:, np.newaxis]\n",
    "print(normalized_conf_mat)"
   ]
  },
  {
   "cell_type": "code",
   "execution_count": null,
   "metadata": {},
   "outputs": [],
   "source": []
  },
  {
   "cell_type": "markdown",
   "metadata": {},
   "source": [
    "#####  Random Forest Classifier"
   ]
  },
  {
   "cell_type": "code",
   "execution_count": 52,
   "metadata": {},
   "outputs": [],
   "source": [
    "#Model I Random Forest Classifier\n",
    "###Logistic Regression parameter tuning for model I: \n",
    "\n",
    "\n",
    "def ML_pipeline_kfold_GridSearchCV_rf(X,y,random_state,n_folds):\n",
    "    # create a test set\n",
    "    X_other, X_test, y_other, y_test = train_test_split(X, y, test_size=0.2, random_state = random_state)\n",
    "    # splitter for _other\n",
    "    kf = KFold(n_splits=n_folds,shuffle=True,random_state=random_state)\n",
    "    \n",
    "    cat_ftrs = ['school','sex','address','Pstatus','famsize','schoolsup','famsup','paid','activities','nursery',\n",
    "                    'Mjob', 'Fjob','reason', 'guardian', 'higher', 'internet', 'romantic']\n",
    "    ordinal_ftrs = ['Medu', 'Fedu', 'health','freetime', 'goout','famrel' 'Dalc', 'Walc', \n",
    "                'traveltime','studytime', 'failures'] #already pre processd\n",
    "    num_ftrs = ['age','absences','G1','G2']\n",
    "    label = ['G3']\n",
    "    \n",
    "    cat_ftrs_i = [df.columns.get_loc(x) for x in cat_ftrs]\n",
    "    num_ftrs_i = [df.columns.get_loc(x) for x in num_ftrs]\n",
    "\n",
    "    categorical_transformer = Pipeline(steps=[('onehot', OneHotEncoder(sparse=False))])\n",
    "    numeric_transformer = Pipeline(steps=[('scaler', StandardScaler())])\n",
    "    \n",
    "    # collect the transformers\n",
    "    preprocessor = ColumnTransformer(\n",
    "        transformers=[\n",
    "            ('num', numeric_transformer, num_ftrs_i),\n",
    "            ('cat', categorical_transformer, cat_ftrs_i)])\n",
    "\n",
    "    pipe = make_pipeline(preprocessor, RandomForestClassifier(n_estimators =  100,random_state=random_state))\n",
    "\n",
    "    # the parameter(s) we want to tune\n",
    "    param_grid = {'randomforestclassifier__max_depth': range(1,30,5),\n",
    "                  'randomforestclassifier__min_samples_split': range(2,20,5)} \n",
    "    # prepare gridsearch\n",
    "    grid = GridSearchCV(pipe, param_grid=param_grid,scoring = make_scorer(accuracy_score),\n",
    "                        cv=kf, return_train_score = True,iid=True)\n",
    "    # do kfold CV on _other\n",
    "    grid.fit(X_other, y_other)\n",
    "    \n",
    "    feature_names = num_ftrs + \\\n",
    "                list(grid.best_estimator_[0].named_transformers_['cat'][0].get_feature_names(cat_ftrs))\n",
    "    return grid, grid.score(X_test, y_test), np.array(feature_names), X_test, y_test\n",
    "    \n",
    "    "
   ]
  },
  {
   "cell_type": "code",
   "execution_count": 53,
   "metadata": {},
   "outputs": [
    {
     "name": "stdout",
     "output_type": "stream",
     "text": [
      "{'randomforestclassifier__max_depth': 16, 'randomforestclassifier__min_samples_split': 2}\n",
      "best CV score: 0.9208860759493671\n",
      "test score: 0.8607594936708861\n",
      "{'randomforestclassifier__max_depth': 6, 'randomforestclassifier__min_samples_split': 7}\n",
      "best CV score: 0.9208860759493671\n",
      "test score: 0.8481012658227848\n",
      "{'randomforestclassifier__max_depth': 16, 'randomforestclassifier__min_samples_split': 12}\n",
      "best CV score: 0.9335443037974683\n",
      "test score: 0.8734177215189873\n",
      "{'randomforestclassifier__max_depth': 6, 'randomforestclassifier__min_samples_split': 7}\n",
      "best CV score: 0.8987341772151899\n",
      "test score: 0.8860759493670886\n",
      "{'randomforestclassifier__max_depth': 16, 'randomforestclassifier__min_samples_split': 7}\n",
      "best CV score: 0.9145569620253164\n",
      "test score: 0.9113924050632911\n",
      "{'randomforestclassifier__max_depth': 11, 'randomforestclassifier__min_samples_split': 7}\n",
      "best CV score: 0.930379746835443\n",
      "test score: 0.8734177215189873\n",
      "{'randomforestclassifier__max_depth': 11, 'randomforestclassifier__min_samples_split': 7}\n",
      "best CV score: 0.9272151898734177\n",
      "test score: 0.8607594936708861\n",
      "{'randomforestclassifier__max_depth': 11, 'randomforestclassifier__min_samples_split': 17}\n",
      "best CV score: 0.9145569620253164\n",
      "test score: 0.9367088607594937\n",
      "{'randomforestclassifier__max_depth': 16, 'randomforestclassifier__min_samples_split': 2}\n",
      "best CV score: 0.9240506329113924\n",
      "test score: 0.8607594936708861\n",
      "{'randomforestclassifier__max_depth': 11, 'randomforestclassifier__min_samples_split': 7}\n",
      "best CV score: 0.9177215189873418\n",
      "test score: 0.8860759493670886\n",
      "test accuracy: 0.879746835443038 +/- 0.02547419214873177\n"
     ]
    }
   ],
   "source": [
    "test_scores = []\n",
    "for i in range(10):\n",
    "    grid, test_score, feature_names, X_test, y_test = ML_pipeline_kfold_GridSearchCV_rf(X,y,i*19,5)\n",
    "    print(grid.best_params_)\n",
    "    print('best CV score:',grid.best_score_)\n",
    "    print('test score:',test_score)\n",
    "    test_scores.append(test_score)\n",
    "print('test accuracy:',np.mean(test_scores),'+/-',np.std(test_scores))"
   ]
  },
  {
   "cell_type": "code",
   "execution_count": 55,
   "metadata": {},
   "outputs": [
    {
     "name": "stdout",
     "output_type": "stream",
     "text": [
      "0.9145569620253164\n",
      "0.9367088607594937\n",
      "{'randomforestclassifier__max_depth': 11, 'randomforestclassifier__min_samples_split': 17}\n"
     ]
    }
   ],
   "source": [
    "grid, test_score, feature_names, X_test, y_test= ML_pipeline_kfold_GridSearchCV_rf(X,y,7*19,5)\n",
    "print(grid.best_score_)\n",
    "print(grid.score(X_test,y_test))\n",
    "print(grid.best_params_)"
   ]
  },
  {
   "cell_type": "code",
   "execution_count": 54,
   "metadata": {
    "collapsed": true,
    "jupyter": {
     "outputs_hidden": true,
     "source_hidden": true
    }
   },
   "outputs": [
    {
     "name": "stdout",
     "output_type": "stream",
     "text": [
      "Pipeline(memory=None,\n",
      "         steps=[('columntransformer',\n",
      "                 ColumnTransformer(n_jobs=None, remainder='drop',\n",
      "                                   sparse_threshold=0.3,\n",
      "                                   transformer_weights=None,\n",
      "                                   transformers=[('num',\n",
      "                                                  Pipeline(memory=None,\n",
      "                                                           steps=[('scaler',\n",
      "                                                                   StandardScaler(copy=True,\n",
      "                                                                                  with_mean=True,\n",
      "                                                                                  with_std=True))],\n",
      "                                                           verbose=False),\n",
      "                                                  [2, 29, 30, 31]),\n",
      "                                                 ('cat',\n",
      "                                                  Pipeline(memory=None,\n",
      "                                                           steps=[('onehot',\n",
      "                                                                   OneHotEncoder(cate...\n",
      "                 RandomForestClassifier(bootstrap=True, class_weight=None,\n",
      "                                        criterion='gini', max_depth=11,\n",
      "                                        max_features='auto',\n",
      "                                        max_leaf_nodes=None,\n",
      "                                        min_impurity_decrease=0.0,\n",
      "                                        min_impurity_split=None,\n",
      "                                        min_samples_leaf=1,\n",
      "                                        min_samples_split=17,\n",
      "                                        min_weight_fraction_leaf=0.0,\n",
      "                                        n_estimators=100, n_jobs=None,\n",
      "                                        oob_score=False, random_state=133,\n",
      "                                        verbose=0, warm_start=False))],\n",
      "         verbose=False)\n",
      "0.9145569620253164\n",
      "11\n",
      "[[20  1]\n",
      " [ 4 54]]\n",
      "[[0.95238095 0.04761905]\n",
      " [0.06896552 0.93103448]]\n"
     ]
    }
   ],
   "source": [
    "grid, test_score, feature_names, X_test, y_test = ML_pipeline_kfold_GridSearchCV_rf(X,y,7*19,5)\n",
    "# results = pd.DataFrame(grid.cv_results_)\n",
    "print(grid.best_estimator_)\n",
    "print(grid.best_score_)\n",
    "print(grid.best_index_)\n",
    "y_pred = grid.best_estimator_.predict(X_test)\n",
    "# conf_mat = confusion_matrix(y_test, y_pred)\n",
    "# print(conf_mat)\n",
    "# normalized_conf_mat = conf_mat.astype('float') / conf_mat.sum(axis=1)[:, np.newaxis]\n",
    "# print(normalized_conf_mat)"
   ]
  },
  {
   "cell_type": "markdown",
   "metadata": {},
   "source": [
    "##### SVC:"
   ]
  },
  {
   "cell_type": "code",
   "execution_count": 79,
   "metadata": {},
   "outputs": [],
   "source": [
    "#Model I SVC\n",
    "from sklearn.svm import SVC\n",
    "from sklearn.metrics import accuracy_score\n",
    "from sklearn.model_selection import StratifiedKFold\n",
    "\n",
    "def ML_pipeline_kfold_GridSearchCV_svc(X,y,random_state,n_folds):\n",
    "    # create a test set\n",
    "    X_other, X_test, y_other, y_test = train_test_split(X, y, test_size=0.2, random_state = random_state)\n",
    "    # splitter for _other\n",
    "    kf = KFold(n_splits=n_folds,shuffle=True,random_state=random_state)\n",
    "    \n",
    "    cat_ftrs = ['school','sex','address','Pstatus','famsize','schoolsup','famsup','paid','activities','nursery',\n",
    "                    'Mjob', 'Fjob','reason', 'guardian', 'higher', 'internet', 'romantic']\n",
    "    ordinal_ftrs = ['Medu', 'Fedu', 'health','freetime', 'goout','famrel' 'Dalc', 'Walc', \n",
    "                'traveltime','studytime', 'failures'] #already pre processd\n",
    "    num_ftrs = ['age','absences','G1','G2']\n",
    "    label = ['G3']\n",
    "    \n",
    "    cat_ftrs_i = [df.columns.get_loc(x) for x in cat_ftrs]\n",
    "    num_ftrs_i = [df.columns.get_loc(x) for x in num_ftrs]\n",
    "\n",
    "    categorical_transformer = Pipeline(steps=[('onehot', OneHotEncoder(sparse=False))])\n",
    "    numeric_transformer = Pipeline(steps=[('scaler', StandardScaler())])\n",
    "    \n",
    "    # collect the transformers\n",
    "    preprocessor = ColumnTransformer(\n",
    "        transformers=[\n",
    "            ('num', numeric_transformer, num_ftrs_i),\n",
    "            ('cat', categorical_transformer, cat_ftrs_i)])\n",
    "\n",
    "    pipe = make_pipeline(preprocessor,SVC(random_state = 20))\n",
    "\n",
    "    # the parameter(s) we want to tune\n",
    "    param_grid = {'svc__C': [0.001, 0.01, 0.1, 1, 10, 100, 1000, 10000],'svc__gamma': [0.00001, 0.0001, 0.001, 0.01, 0.1, 1, 10, 100, 1000]} \n",
    "    # prepare gridsearch\n",
    "    grid = GridSearchCV(pipe, param_grid=param_grid,scoring = make_scorer(accuracy_score),\n",
    "                        cv=kf, return_train_score = True,iid=True)\n",
    "    # do kfold CV on _other\n",
    "    grid.fit(X_other, y_other)\n",
    "    \n",
    "    feature_names = num_ftrs + \\\n",
    "                list(grid.best_estimator_[0].named_transformers_['cat'][0].get_feature_names(cat_ftrs))\n",
    "    return grid, grid.score(X_test, y_test), np.array(feature_names), X_test, y_test"
   ]
  },
  {
   "cell_type": "code",
   "execution_count": 80,
   "metadata": {},
   "outputs": [
    {
     "name": "stdout",
     "output_type": "stream",
     "text": [
      "{'svc__C': 100, 'svc__gamma': 0.001}\n",
      "best CV score: 0.9177215189873418\n",
      "test score: 0.9240506329113924\n",
      "{'svc__C': 10, 'svc__gamma': 0.01}\n",
      "best CV score: 0.9240506329113924\n",
      "test score: 0.8987341772151899\n",
      "{'svc__C': 10000, 'svc__gamma': 0.0001}\n",
      "best CV score: 0.9145569620253164\n",
      "test score: 0.8734177215189873\n",
      "{'svc__C': 100, 'svc__gamma': 0.001}\n",
      "best CV score: 0.9208860759493671\n",
      "test score: 0.8860759493670886\n",
      "{'svc__C': 100, 'svc__gamma': 0.001}\n",
      "best CV score: 0.9050632911392406\n",
      "test score: 0.9113924050632911\n",
      "{'svc__C': 1000, 'svc__gamma': 0.0001}\n",
      "best CV score: 0.9145569620253164\n",
      "test score: 0.9113924050632911\n",
      "{'svc__C': 100, 'svc__gamma': 0.001}\n",
      "best CV score: 0.9367088607594937\n",
      "test score: 0.8481012658227848\n",
      "{'svc__C': 100, 'svc__gamma': 0.001}\n",
      "best CV score: 0.9050632911392406\n",
      "test score: 0.9620253164556962\n",
      "{'svc__C': 100, 'svc__gamma': 0.001}\n",
      "best CV score: 0.9240506329113924\n",
      "test score: 0.8607594936708861\n",
      "{'svc__C': 100, 'svc__gamma': 0.001}\n",
      "best CV score: 0.8987341772151899\n",
      "test score: 0.9240506329113924\n",
      "test accuracy: 0.8999999999999998 +/- 0.03224744101989114\n"
     ]
    }
   ],
   "source": [
    "test_scores = []\n",
    "for i in range(10):\n",
    "    grid, test_score, feature_names, X_test, y_test= ML_pipeline_kfold_GridSearchCV_svc(X,y,i*19,5)\n",
    "    print(grid.best_params_)\n",
    "    print('best CV score:',grid.best_score_)\n",
    "    print('test score:',test_score)\n",
    "    test_scores.append(test_score)\n",
    "print('test accuracy:',np.mean(test_scores),'+/-',np.std(test_scores))"
   ]
  },
  {
   "cell_type": "code",
   "execution_count": 81,
   "metadata": {},
   "outputs": [
    {
     "name": "stdout",
     "output_type": "stream",
     "text": [
      "0.9050632911392406\n",
      "0.9620253164556962\n",
      "{'svc__C': 100, 'svc__gamma': 0.001}\n"
     ]
    }
   ],
   "source": [
    "grid, test_score, feature_names, X_test, y_test= ML_pipeline_kfold_GridSearchCV_svc(X,y,7*19,5)\n",
    "print(grid.best_score_)\n",
    "print(grid.score(X_test,y_test))\n",
    "print(grid.best_params_)"
   ]
  },
  {
   "cell_type": "markdown",
   "metadata": {},
   "source": []
  },
  {
   "cell_type": "markdown",
   "metadata": {},
   "source": [
    "## Model II - With G1 without G2\n",
    "##### Model II - Data prep, X and y values, Balance:"
   ]
  },
  {
   "cell_type": "code",
   "execution_count": 82,
   "metadata": {},
   "outputs": [],
   "source": [
    "df1 = df.drop(['G2'], axis=1)"
   ]
  },
  {
   "cell_type": "code",
   "execution_count": 83,
   "metadata": {},
   "outputs": [
    {
     "data": {
      "text/html": [
       "<div>\n",
       "<style scoped>\n",
       "    .dataframe tbody tr th:only-of-type {\n",
       "        vertical-align: middle;\n",
       "    }\n",
       "\n",
       "    .dataframe tbody tr th {\n",
       "        vertical-align: top;\n",
       "    }\n",
       "\n",
       "    .dataframe thead th {\n",
       "        text-align: right;\n",
       "    }\n",
       "</style>\n",
       "<table border=\"1\" class=\"dataframe\">\n",
       "  <thead>\n",
       "    <tr style=\"text-align: right;\">\n",
       "      <th></th>\n",
       "      <th>school</th>\n",
       "      <th>sex</th>\n",
       "      <th>age</th>\n",
       "      <th>address</th>\n",
       "      <th>famsize</th>\n",
       "      <th>Pstatus</th>\n",
       "      <th>Medu</th>\n",
       "      <th>Fedu</th>\n",
       "      <th>Mjob</th>\n",
       "      <th>Fjob</th>\n",
       "      <th>...</th>\n",
       "      <th>romantic</th>\n",
       "      <th>famrel</th>\n",
       "      <th>freetime</th>\n",
       "      <th>goout</th>\n",
       "      <th>Dalc</th>\n",
       "      <th>Walc</th>\n",
       "      <th>health</th>\n",
       "      <th>absences</th>\n",
       "      <th>G1</th>\n",
       "      <th>G3</th>\n",
       "    </tr>\n",
       "  </thead>\n",
       "  <tbody>\n",
       "    <tr>\n",
       "      <th>0</th>\n",
       "      <td>GP</td>\n",
       "      <td>F</td>\n",
       "      <td>18</td>\n",
       "      <td>U</td>\n",
       "      <td>GT3</td>\n",
       "      <td>A</td>\n",
       "      <td>4</td>\n",
       "      <td>4</td>\n",
       "      <td>at_home</td>\n",
       "      <td>teacher</td>\n",
       "      <td>...</td>\n",
       "      <td>no</td>\n",
       "      <td>4</td>\n",
       "      <td>3</td>\n",
       "      <td>4</td>\n",
       "      <td>1</td>\n",
       "      <td>1</td>\n",
       "      <td>3</td>\n",
       "      <td>6</td>\n",
       "      <td>5</td>\n",
       "      <td>0</td>\n",
       "    </tr>\n",
       "    <tr>\n",
       "      <th>1</th>\n",
       "      <td>GP</td>\n",
       "      <td>F</td>\n",
       "      <td>17</td>\n",
       "      <td>U</td>\n",
       "      <td>GT3</td>\n",
       "      <td>T</td>\n",
       "      <td>1</td>\n",
       "      <td>1</td>\n",
       "      <td>at_home</td>\n",
       "      <td>other</td>\n",
       "      <td>...</td>\n",
       "      <td>no</td>\n",
       "      <td>5</td>\n",
       "      <td>3</td>\n",
       "      <td>3</td>\n",
       "      <td>1</td>\n",
       "      <td>1</td>\n",
       "      <td>3</td>\n",
       "      <td>4</td>\n",
       "      <td>5</td>\n",
       "      <td>0</td>\n",
       "    </tr>\n",
       "    <tr>\n",
       "      <th>2</th>\n",
       "      <td>GP</td>\n",
       "      <td>F</td>\n",
       "      <td>15</td>\n",
       "      <td>U</td>\n",
       "      <td>LE3</td>\n",
       "      <td>T</td>\n",
       "      <td>1</td>\n",
       "      <td>1</td>\n",
       "      <td>at_home</td>\n",
       "      <td>other</td>\n",
       "      <td>...</td>\n",
       "      <td>no</td>\n",
       "      <td>4</td>\n",
       "      <td>3</td>\n",
       "      <td>2</td>\n",
       "      <td>2</td>\n",
       "      <td>3</td>\n",
       "      <td>3</td>\n",
       "      <td>10</td>\n",
       "      <td>7</td>\n",
       "      <td>1</td>\n",
       "    </tr>\n",
       "    <tr>\n",
       "      <th>3</th>\n",
       "      <td>GP</td>\n",
       "      <td>F</td>\n",
       "      <td>15</td>\n",
       "      <td>U</td>\n",
       "      <td>GT3</td>\n",
       "      <td>T</td>\n",
       "      <td>4</td>\n",
       "      <td>2</td>\n",
       "      <td>health</td>\n",
       "      <td>services</td>\n",
       "      <td>...</td>\n",
       "      <td>yes</td>\n",
       "      <td>3</td>\n",
       "      <td>2</td>\n",
       "      <td>2</td>\n",
       "      <td>1</td>\n",
       "      <td>1</td>\n",
       "      <td>5</td>\n",
       "      <td>2</td>\n",
       "      <td>15</td>\n",
       "      <td>1</td>\n",
       "    </tr>\n",
       "    <tr>\n",
       "      <th>4</th>\n",
       "      <td>GP</td>\n",
       "      <td>F</td>\n",
       "      <td>16</td>\n",
       "      <td>U</td>\n",
       "      <td>GT3</td>\n",
       "      <td>T</td>\n",
       "      <td>3</td>\n",
       "      <td>3</td>\n",
       "      <td>other</td>\n",
       "      <td>other</td>\n",
       "      <td>...</td>\n",
       "      <td>no</td>\n",
       "      <td>4</td>\n",
       "      <td>3</td>\n",
       "      <td>2</td>\n",
       "      <td>1</td>\n",
       "      <td>2</td>\n",
       "      <td>5</td>\n",
       "      <td>4</td>\n",
       "      <td>6</td>\n",
       "      <td>1</td>\n",
       "    </tr>\n",
       "  </tbody>\n",
       "</table>\n",
       "<p>5 rows × 32 columns</p>\n",
       "</div>"
      ],
      "text/plain": [
       "  school sex  age address famsize Pstatus  Medu  Fedu     Mjob      Fjob  ...  \\\n",
       "0     GP   F   18       U     GT3       A     4     4  at_home   teacher  ...   \n",
       "1     GP   F   17       U     GT3       T     1     1  at_home     other  ...   \n",
       "2     GP   F   15       U     LE3       T     1     1  at_home     other  ...   \n",
       "3     GP   F   15       U     GT3       T     4     2   health  services  ...   \n",
       "4     GP   F   16       U     GT3       T     3     3    other     other  ...   \n",
       "\n",
       "  romantic famrel  freetime  goout  Dalc Walc health absences  G1 G3  \n",
       "0       no      4         3      4     1    1      3        6   5  0  \n",
       "1       no      5         3      3     1    1      3        4   5  0  \n",
       "2       no      4         3      2     2    3      3       10   7  1  \n",
       "3      yes      3         2      2     1    1      5        2  15  1  \n",
       "4       no      4         3      2     1    2      5        4   6  1  \n",
       "\n",
       "[5 rows x 32 columns]"
      ]
     },
     "execution_count": 83,
     "metadata": {},
     "output_type": "execute_result"
    }
   ],
   "source": [
    "df1.head()"
   ]
  },
  {
   "cell_type": "markdown",
   "metadata": {},
   "source": [
    "X and y:"
   ]
  },
  {
   "cell_type": "code",
   "execution_count": 84,
   "metadata": {},
   "outputs": [],
   "source": [
    "X = df1.loc[:, df1.columns != 'G3']\n",
    "y = df1['G3']"
   ]
  },
  {
   "cell_type": "markdown",
   "metadata": {},
   "source": [
    "##### Model II Logistic Regression:"
   ]
  },
  {
   "cell_type": "code",
   "execution_count": 87,
   "metadata": {},
   "outputs": [],
   "source": [
    "#Model II: Logistic Regression\n",
    "from sklearn.svm import SVC\n",
    "from sklearn.metrics import accuracy_score\n",
    "from sklearn.model_selection import StratifiedKFold\n",
    "from sklearn.pipeline import Pipeline\n",
    "from sklearn.pipeline import make_pipeline\n",
    "from sklearn.compose import ColumnTransformer\n",
    "\n",
    "###Logistic Regression parameter tuning for model I: \n",
    "\n",
    "def ML_pipeline_kfold_GridSearchCV_logistic(X,y,random_state,n_folds):\n",
    "    # create a test set\n",
    "    X_other, X_test, y_other, y_test = train_test_split(X, y, test_size=0.2, random_state = random_state)\n",
    "    # splitter for _other\n",
    "    kf = KFold(n_splits=n_folds,shuffle=True,random_state=random_state)\n",
    "    \n",
    "    cat_ftrs = ['school','sex','address','Pstatus','famsize','schoolsup','famsup','paid','activities','nursery',\n",
    "                    'Mjob', 'Fjob','reason', 'guardian', 'higher', 'internet', 'romantic']\n",
    "    ordinal_ftrs = ['Medu', 'Fedu', 'health','freetime', 'goout','famrel' 'Dalc', 'Walc', \n",
    "                'traveltime','studytime', 'failures'] #already pre processd\n",
    "    num_ftrs = ['age','absences','G1']\n",
    "    label = ['G3']\n",
    "    \n",
    "    cat_ftrs_i = [df.columns.get_loc(x) for x in cat_ftrs]\n",
    "    num_ftrs_i = [df.columns.get_loc(x) for x in num_ftrs]\n",
    "\n",
    "    categorical_transformer = Pipeline(steps=[('onehot', OneHotEncoder(sparse=False))])\n",
    "    numeric_transformer = Pipeline(steps=[('scaler', StandardScaler())])\n",
    "    \n",
    "    # collect the transformers\n",
    "    preprocessor = ColumnTransformer(\n",
    "        transformers=[\n",
    "            ('num', numeric_transformer, num_ftrs_i),\n",
    "            ('cat', categorical_transformer, cat_ftrs_i)])\n",
    "\n",
    "    pipe = make_pipeline(preprocessor, LogisticRegression(penalty='l1', solver='saga', max_iter=10000, random_state = 20))\n",
    "\n",
    "    # the parameter(s) we want to tune\n",
    "    param_grid = {'logisticregression__C': np.logspace(-2,2, num=8)} \n",
    "    # prepare gridsearch\n",
    "    grid = GridSearchCV(pipe, param_grid=param_grid,scoring = make_scorer(accuracy_score),\n",
    "                        cv=kf, return_train_score = True,iid=True)\n",
    "    # do kfold CV on _other\n",
    "    grid.fit(X_other, y_other)\n",
    "    \n",
    "    feature_names = num_ftrs + \\\n",
    "                list(grid.best_estimator_[0].named_transformers_['cat'][0].get_feature_names(cat_ftrs))\n",
    "    return grid, grid.score(X_test, y_test), np.array(feature_names), X_test, y_test\n",
    "    "
   ]
  },
  {
   "cell_type": "code",
   "execution_count": 88,
   "metadata": {},
   "outputs": [
    {
     "name": "stdout",
     "output_type": "stream",
     "text": [
      "{'logisticregression__C': 0.13894954943731375}\n",
      "best CV score: 0.8322784810126582\n",
      "test score: 0.8987341772151899\n",
      "{'logisticregression__C': 0.13894954943731375}\n",
      "best CV score: 0.8544303797468354\n",
      "test score: 0.8227848101265823\n",
      "{'logisticregression__C': 0.517947467923121}\n",
      "best CV score: 0.8670886075949367\n",
      "test score: 0.7848101265822784\n",
      "{'logisticregression__C': 0.517947467923121}\n",
      "best CV score: 0.8607594936708861\n",
      "test score: 0.759493670886076\n",
      "{'logisticregression__C': 1.9306977288832496}\n",
      "best CV score: 0.8512658227848101\n",
      "test score: 0.8227848101265823\n",
      "{'logisticregression__C': 0.13894954943731375}\n",
      "best CV score: 0.8354430379746836\n",
      "test score: 0.8481012658227848\n",
      "{'logisticregression__C': 0.517947467923121}\n",
      "best CV score: 0.8734177215189873\n",
      "test score: 0.7468354430379747\n",
      "{'logisticregression__C': 1.9306977288832496}\n",
      "best CV score: 0.8417721518987342\n",
      "test score: 0.8481012658227848\n",
      "{'logisticregression__C': 0.517947467923121}\n",
      "best CV score: 0.8639240506329114\n",
      "test score: 0.810126582278481\n",
      "{'logisticregression__C': 0.517947467923121}\n",
      "best CV score: 0.8449367088607594\n",
      "test score: 0.8734177215189873\n",
      "test accuracy: 0.8215189873417721 +/- 0.045797601304115296\n"
     ]
    }
   ],
   "source": [
    "test_scores = []\n",
    "for i in range(10):\n",
    "    grid, test_score,feature_names, X_test, y_test = ML_pipeline_kfold_GridSearchCV_logistic(X,y,i*19, 5)\n",
    "    print(grid.best_params_)\n",
    "    print('best CV score:',grid.best_score_)\n",
    "    print('test score:',test_score)\n",
    "    test_scores.append(test_score)\n",
    "print('test accuracy:',np.mean(test_scores),'+/-',np.std(test_scores))"
   ]
  },
  {
   "cell_type": "code",
   "execution_count": 89,
   "metadata": {},
   "outputs": [
    {
     "name": "stdout",
     "output_type": "stream",
     "text": [
      "0.8417721518987342\n",
      "0.8481012658227848\n",
      "{'logisticregression__C': 1.9306977288832496}\n"
     ]
    }
   ],
   "source": [
    "grid, test_score, feature_names, X_test, y_test= ML_pipeline_kfold_GridSearchCV_logistic(X,y,7*19,5)\n",
    "print(grid.best_score_)\n",
    "print(grid.score(X_test,y_test))\n",
    "print(grid.best_params_)"
   ]
  },
  {
   "cell_type": "markdown",
   "metadata": {},
   "source": [
    "##### Model II: Random Forest Classifier: "
   ]
  },
  {
   "cell_type": "code",
   "execution_count": 90,
   "metadata": {},
   "outputs": [],
   "source": [
    "# Model II: Random Forest Classifier: \n",
    "\n",
    "def ML_pipeline_kfold_GridSearchCV_rf(X,y,random_state,n_folds):\n",
    "    # create a test set\n",
    "    X_other, X_test, y_other, y_test = train_test_split(X, y, test_size=0.2, random_state = random_state)\n",
    "    # splitter for _other\n",
    "    kf = KFold(n_splits=n_folds,shuffle=True,random_state=random_state)\n",
    "    \n",
    "    cat_ftrs = ['school','sex','address','Pstatus','famsize','schoolsup','famsup','paid','activities','nursery',\n",
    "                    'Mjob', 'Fjob','reason', 'guardian', 'higher', 'internet', 'romantic']\n",
    "    ordinal_ftrs = ['Medu', 'Fedu', 'health','freetime', 'goout','famrel' 'Dalc', 'Walc', \n",
    "                'traveltime','studytime', 'failures'] #already pre processd\n",
    "    num_ftrs = ['age','absences','G1']\n",
    "    label = ['G3']\n",
    "    \n",
    "    cat_ftrs_i = [df.columns.get_loc(x) for x in cat_ftrs]\n",
    "    num_ftrs_i = [df.columns.get_loc(x) for x in num_ftrs]\n",
    "\n",
    "    categorical_transformer = Pipeline(steps=[('onehot', OneHotEncoder(sparse=False))])\n",
    "    numeric_transformer = Pipeline(steps=[('scaler', StandardScaler())])\n",
    "    \n",
    "    # collect the transformers\n",
    "    preprocessor = ColumnTransformer(\n",
    "        transformers=[\n",
    "            ('num', numeric_transformer, num_ftrs_i),\n",
    "            ('cat', categorical_transformer, cat_ftrs_i)])\n",
    "\n",
    "    pipe = make_pipeline(preprocessor, RandomForestClassifier(n_estimators =  100,random_state=random_state))\n",
    "\n",
    "    # the parameter(s) we want to tune\n",
    "    param_grid = {'randomforestclassifier__max_depth': range(1,30,5),\n",
    "                  'randomforestclassifier__min_samples_split': range(2,20,5)} \n",
    "    # prepare gridsearch\n",
    "    grid = GridSearchCV(pipe, param_grid=param_grid,scoring = make_scorer(accuracy_score),\n",
    "                        cv=kf, return_train_score = True,iid=True)\n",
    "    # do kfold CV on _other\n",
    "    grid.fit(X_other, y_other)\n",
    "    \n",
    "    feature_names = num_ftrs + \\\n",
    "                list(grid.best_estimator_[0].named_transformers_['cat'][0].get_feature_names(cat_ftrs))\n",
    "    return grid, grid.score(X_test, y_test), np.array(feature_names), X_test, y_test\n",
    "    \n",
    "    "
   ]
  },
  {
   "cell_type": "code",
   "execution_count": 91,
   "metadata": {},
   "outputs": [
    {
     "name": "stdout",
     "output_type": "stream",
     "text": [
      "{'randomforestclassifier__max_depth': 11, 'randomforestclassifier__min_samples_split': 12}\n",
      "best CV score: 0.8291139240506329\n",
      "test score: 0.810126582278481\n",
      "{'randomforestclassifier__max_depth': 6, 'randomforestclassifier__min_samples_split': 2}\n",
      "best CV score: 0.8354430379746836\n",
      "test score: 0.8607594936708861\n",
      "{'randomforestclassifier__max_depth': 16, 'randomforestclassifier__min_samples_split': 2}\n",
      "best CV score: 0.8322784810126582\n",
      "test score: 0.8227848101265823\n",
      "{'randomforestclassifier__max_depth': 11, 'randomforestclassifier__min_samples_split': 7}\n",
      "best CV score: 0.8575949367088608\n",
      "test score: 0.759493670886076\n",
      "{'randomforestclassifier__max_depth': 11, 'randomforestclassifier__min_samples_split': 7}\n",
      "best CV score: 0.8069620253164557\n",
      "test score: 0.8607594936708861\n",
      "{'randomforestclassifier__max_depth': 11, 'randomforestclassifier__min_samples_split': 7}\n",
      "best CV score: 0.8259493670886076\n",
      "test score: 0.8354430379746836\n",
      "{'randomforestclassifier__max_depth': 16, 'randomforestclassifier__min_samples_split': 17}\n",
      "best CV score: 0.8575949367088608\n",
      "test score: 0.759493670886076\n",
      "{'randomforestclassifier__max_depth': 11, 'randomforestclassifier__min_samples_split': 7}\n",
      "best CV score: 0.8227848101265823\n",
      "test score: 0.8354430379746836\n",
      "{'randomforestclassifier__max_depth': 11, 'randomforestclassifier__min_samples_split': 12}\n",
      "best CV score: 0.8227848101265823\n",
      "test score: 0.7721518987341772\n",
      "{'randomforestclassifier__max_depth': 6, 'randomforestclassifier__min_samples_split': 12}\n",
      "best CV score: 0.8227848101265823\n",
      "test score: 0.8227848101265823\n",
      "test accuracy: 0.8139240506329115 +/- 0.036269743751631396\n"
     ]
    }
   ],
   "source": [
    "test_scores = []\n",
    "for i in range(10):\n",
    "    grid, test_score,feature_names, X_test, y_test = ML_pipeline_kfold_GridSearchCV_rf(X,y,i*19, 5)\n",
    "    print(grid.best_params_)\n",
    "    print('best CV score:',grid.best_score_)\n",
    "    print('test score:',test_score)\n",
    "    test_scores.append(test_score)\n",
    "    \n",
    "print('test accuracy:',np.mean(test_scores),'+/-',np.std(test_scores))"
   ]
  },
  {
   "cell_type": "code",
   "execution_count": 92,
   "metadata": {},
   "outputs": [
    {
     "name": "stdout",
     "output_type": "stream",
     "text": [
      "0.8227848101265823\n",
      "0.8354430379746836\n",
      "{'randomforestclassifier__max_depth': 11, 'randomforestclassifier__min_samples_split': 7}\n"
     ]
    }
   ],
   "source": [
    "grid, test_score, feature_names, X_test, y_test= ML_pipeline_kfold_GridSearchCV_rf(X,y,7*19,5)\n",
    "print(grid.best_score_)\n",
    "print(grid.score(X_test,y_test))\n",
    "print(grid.best_params_)"
   ]
  },
  {
   "cell_type": "markdown",
   "metadata": {},
   "source": [
    "##### Model II: SVC "
   ]
  },
  {
   "cell_type": "code",
   "execution_count": null,
   "metadata": {},
   "outputs": [],
   "source": []
  },
  {
   "cell_type": "code",
   "execution_count": 93,
   "metadata": {},
   "outputs": [],
   "source": [
    "#Model II SVC:\n",
    "from sklearn.svm import SVC\n",
    "from sklearn.metrics import accuracy_score\n",
    "from sklearn.model_selection import StratifiedKFold\n",
    "\n",
    "def ML_pipeline_kfold_GridSearchCV_svc(X,y,random_state,n_folds):\n",
    "    # create a test set\n",
    "    X_other, X_test, y_other, y_test = train_test_split(X, y, test_size=0.2, random_state = random_state)\n",
    "    # splitter for _other\n",
    "    kf = KFold(n_splits=n_folds,shuffle=True,random_state=random_state)\n",
    "    \n",
    "    cat_ftrs = ['school','sex','address','Pstatus','famsize','schoolsup','famsup','paid','activities','nursery',\n",
    "                    'Mjob', 'Fjob','reason', 'guardian', 'higher', 'internet', 'romantic']\n",
    "    ordinal_ftrs = ['Medu', 'Fedu', 'health','freetime', 'goout','famrel' 'Dalc', 'Walc', \n",
    "                'traveltime','studytime', 'failures'] #already pre processd\n",
    "    num_ftrs = ['age','absences','G1']\n",
    "    label = ['G3']\n",
    "    \n",
    "    cat_ftrs_i = [df.columns.get_loc(x) for x in cat_ftrs]\n",
    "    num_ftrs_i = [df.columns.get_loc(x) for x in num_ftrs]\n",
    "\n",
    "    categorical_transformer = Pipeline(steps=[('onehot', OneHotEncoder(sparse=False))])\n",
    "    numeric_transformer = Pipeline(steps=[('scaler', StandardScaler())])\n",
    "    \n",
    "    # collect the transformers\n",
    "    preprocessor = ColumnTransformer(\n",
    "        transformers=[\n",
    "            ('num', numeric_transformer, num_ftrs_i),\n",
    "            ('cat', categorical_transformer, cat_ftrs_i)])\n",
    "\n",
    "    pipe = make_pipeline(preprocessor,SVC(random_state = 20))\n",
    "\n",
    "    # the parameter(s) we want to tune\n",
    "    param_grid = {'svc__C': [0.001, 0.01, 0.1, 1, 10, 100, 1000, 10000],'svc__gamma': [0.00001, 0.0001, 0.001, 0.01, 0.1, 1, 10, 100, 1000]} \n",
    "    # prepare gridsearch\n",
    "    grid = GridSearchCV(pipe, param_grid=param_grid,scoring = make_scorer(accuracy_score),\n",
    "                        cv=kf, return_train_score = True,iid=True)\n",
    "    # do kfold CV on _other\n",
    "    grid.fit(X_other, y_other)\n",
    "    \n",
    "    feature_names = num_ftrs + \\\n",
    "                list(grid.best_estimator_[0].named_transformers_['cat'][0].get_feature_names(cat_ftrs))\n",
    "    return grid, grid.score(X_test, y_test), np.array(feature_names), X_test, y_test"
   ]
  },
  {
   "cell_type": "code",
   "execution_count": 94,
   "metadata": {},
   "outputs": [
    {
     "name": "stdout",
     "output_type": "stream",
     "text": [
      "{'svc__C': 1, 'svc__gamma': 0.1}\n",
      "best CV score: 0.8386075949367089\n",
      "test score: 0.8607594936708861\n",
      "{'svc__C': 1, 'svc__gamma': 0.01}\n",
      "best CV score: 0.8481012658227848\n",
      "test score: 0.8607594936708861\n",
      "{'svc__C': 10, 'svc__gamma': 0.001}\n",
      "best CV score: 0.8386075949367089\n",
      "test score: 0.7088607594936709\n",
      "{'svc__C': 1000, 'svc__gamma': 0.001}\n",
      "best CV score: 0.8607594936708861\n",
      "test score: 0.759493670886076\n",
      "{'svc__C': 1000, 'svc__gamma': 0.0001}\n",
      "best CV score: 0.8449367088607594\n",
      "test score: 0.8354430379746836\n",
      "{'svc__C': 1, 'svc__gamma': 0.01}\n",
      "best CV score: 0.8164556962025317\n",
      "test score: 0.8354430379746836\n",
      "{'svc__C': 100, 'svc__gamma': 0.001}\n",
      "best CV score: 0.8765822784810127\n",
      "test score: 0.7468354430379747\n",
      "{'svc__C': 100, 'svc__gamma': 0.01}\n",
      "best CV score: 0.8386075949367089\n",
      "test score: 0.7974683544303798\n",
      "{'svc__C': 10, 'svc__gamma': 0.001}\n",
      "best CV score: 0.8322784810126582\n",
      "test score: 0.8227848101265823\n",
      "{'svc__C': 100, 'svc__gamma': 0.001}\n",
      "best CV score: 0.8227848101265823\n",
      "test score: 0.8354430379746836\n",
      "test accuracy: 0.8063291139240507 +/- 0.049041444627368404\n"
     ]
    }
   ],
   "source": [
    "test_scores = []\n",
    "for i in range(10):\n",
    "    grid, test_score,feature_names, X_test, y_test = ML_pipeline_kfold_GridSearchCV_svc(X,y,i*19, 5)\n",
    "    print(grid.best_params_)\n",
    "    print('best CV score:',grid.best_score_)\n",
    "    print('test score:',test_score)\n",
    "    test_scores.append(test_score)\n",
    "print('test accuracy:',np.mean(test_scores),'+/-',np.std(test_scores))"
   ]
  },
  {
   "cell_type": "code",
   "execution_count": 95,
   "metadata": {},
   "outputs": [
    {
     "name": "stdout",
     "output_type": "stream",
     "text": [
      "0.8386075949367089\n",
      "0.7974683544303798\n",
      "{'svc__C': 100, 'svc__gamma': 0.01}\n"
     ]
    }
   ],
   "source": [
    "grid, test_score, feature_names, X_test, y_test= ML_pipeline_kfold_GridSearchCV_svc(X,y,7*19,5)\n",
    "print(grid.best_score_)\n",
    "print(grid.score(X_test,y_test))\n",
    "print(grid.best_params_)"
   ]
  },
  {
   "cell_type": "markdown",
   "metadata": {},
   "source": []
  },
  {
   "cell_type": "markdown",
   "metadata": {},
   "source": [
    "#### Model III - No G1 & G2\n",
    "##### Data prep for X and y and Balance:"
   ]
  },
  {
   "cell_type": "code",
   "execution_count": 99,
   "metadata": {},
   "outputs": [],
   "source": [
    "df2 = df1.drop(['G1'], axis=1)"
   ]
  },
  {
   "cell_type": "code",
   "execution_count": 100,
   "metadata": {},
   "outputs": [],
   "source": [
    "X = df2.loc[:, df2.columns != 'G3']\n",
    "y = df2['G3']"
   ]
  },
  {
   "cell_type": "markdown",
   "metadata": {},
   "source": [
    "##### Model III - Logistic Regression "
   ]
  },
  {
   "cell_type": "code",
   "execution_count": 102,
   "metadata": {},
   "outputs": [],
   "source": [
    "##### Model III - Logistic Regression \n",
    "from sklearn.svm import SVC\n",
    "from sklearn.metrics import accuracy_score\n",
    "from sklearn.model_selection import StratifiedKFold\n",
    "from sklearn.pipeline import Pipeline\n",
    "from sklearn.pipeline import make_pipeline\n",
    "from sklearn.compose import ColumnTransformer\n",
    "\n",
    "\n",
    "def ML_pipeline_kfold_GridSearchCV_logistic(X,y,random_state,n_folds):\n",
    "    # create a test set\n",
    "    X_other, X_test, y_other, y_test = train_test_split(X, y, test_size=0.2, random_state = random_state)\n",
    "    # splitter for _other\n",
    "    kf = KFold(n_splits=n_folds,shuffle=True,random_state=random_state)\n",
    "    \n",
    "    cat_ftrs = ['school','sex','address','Pstatus','famsize','schoolsup','famsup','paid','activities','nursery',\n",
    "                    'Mjob', 'Fjob','reason', 'guardian', 'higher', 'internet', 'romantic']\n",
    "    ordinal_ftrs = ['Medu', 'Fedu', 'health','freetime', 'goout','famrel' 'Dalc', 'Walc', \n",
    "                'traveltime','studytime', 'failures'] #already pre processd\n",
    "    num_ftrs = ['age','absences']\n",
    "    label = ['G3']\n",
    "    \n",
    "    cat_ftrs_i = [df.columns.get_loc(x) for x in cat_ftrs]\n",
    "    num_ftrs_i = [df.columns.get_loc(x) for x in num_ftrs]\n",
    "\n",
    "    categorical_transformer = Pipeline(steps=[('onehot', OneHotEncoder(sparse=False))])\n",
    "    numeric_transformer = Pipeline(steps=[('scaler', StandardScaler())])\n",
    "    \n",
    "    # collect the transformers\n",
    "    preprocessor = ColumnTransformer(\n",
    "        transformers=[\n",
    "            ('num', numeric_transformer, num_ftrs_i),\n",
    "            ('cat', categorical_transformer, cat_ftrs_i)])\n",
    "\n",
    "    pipe = make_pipeline(preprocessor, LogisticRegression(penalty='l1', solver='saga', max_iter=10000, random_state = 20))\n",
    "\n",
    "    # the parameter(s) we want to tune\n",
    "    param_grid = {'logisticregression__C': np.logspace(-2,2, num=8)} \n",
    "    # prepare gridsearch\n",
    "    grid = GridSearchCV(pipe, param_grid=param_grid,scoring = make_scorer(accuracy_score),\n",
    "                        cv=kf, return_train_score = True,iid=True)\n",
    "    # do kfold CV on _other\n",
    "    grid.fit(X_other, y_other)\n",
    "    \n",
    "    feature_names = num_ftrs + \\\n",
    "                list(grid.best_estimator_[0].named_transformers_['cat'][0].get_feature_names(cat_ftrs))\n",
    "    return grid, grid.score(X_test, y_test), np.array(feature_names), X_test, y_test\n",
    "    "
   ]
  },
  {
   "cell_type": "code",
   "execution_count": 103,
   "metadata": {},
   "outputs": [
    {
     "name": "stdout",
     "output_type": "stream",
     "text": [
      "{'logisticregression__C': 0.13894954943731375}\n",
      "best CV score: 0.6867088607594937\n",
      "test score: 0.6329113924050633\n",
      "{'logisticregression__C': 0.01}\n",
      "best CV score: 0.6582278481012658\n",
      "test score: 0.7215189873417721\n",
      "{'logisticregression__C': 0.517947467923121}\n",
      "best CV score: 0.689873417721519\n",
      "test score: 0.5569620253164557\n",
      "{'logisticregression__C': 0.13894954943731375}\n",
      "best CV score: 0.6740506329113924\n",
      "test score: 0.6708860759493671\n",
      "{'logisticregression__C': 0.13894954943731375}\n",
      "best CV score: 0.6740506329113924\n",
      "test score: 0.6835443037974683\n",
      "{'logisticregression__C': 1.9306977288832496}\n",
      "best CV score: 0.6677215189873418\n",
      "test score: 0.7215189873417721\n",
      "{'logisticregression__C': 0.13894954943731375}\n",
      "best CV score: 0.6582278481012658\n",
      "test score: 0.7341772151898734\n",
      "{'logisticregression__C': 0.13894954943731375}\n",
      "best CV score: 0.6582278481012658\n",
      "test score: 0.7341772151898734\n",
      "{'logisticregression__C': 0.13894954943731375}\n",
      "best CV score: 0.6772151898734177\n",
      "test score: 0.6708860759493671\n",
      "{'logisticregression__C': 0.01}\n",
      "best CV score: 0.6550632911392406\n",
      "test score: 0.7341772151898734\n",
      "test accuracy: 0.6860759493670887 +/- 0.0542386969256419\n"
     ]
    }
   ],
   "source": [
    "test_scores = []\n",
    "for i in range(10):\n",
    "    grid, test_score,feature_names, X_test, y_test = ML_pipeline_kfold_GridSearchCV_logistic(X,y,i*19, 5)\n",
    "    print(grid.best_params_)\n",
    "    print('best CV score:',grid.best_score_)\n",
    "    print('test score:',test_score)\n",
    "    test_scores.append(test_score)\n",
    "print('test accuracy:',np.mean(test_scores),'+/-',np.std(test_scores))"
   ]
  },
  {
   "cell_type": "code",
   "execution_count": 104,
   "metadata": {},
   "outputs": [
    {
     "name": "stdout",
     "output_type": "stream",
     "text": [
      "0.6582278481012658\n",
      "0.7341772151898734\n",
      "{'logisticregression__C': 0.13894954943731375}\n"
     ]
    }
   ],
   "source": [
    "grid, test_score, feature_names, X_test, y_test= ML_pipeline_kfold_GridSearchCV_logistic(X,y,7*19,5)\n",
    "print(grid.best_score_)\n",
    "print(grid.score(X_test,y_test))\n",
    "print(grid.best_params_)"
   ]
  },
  {
   "cell_type": "code",
   "execution_count": null,
   "metadata": {},
   "outputs": [],
   "source": []
  },
  {
   "cell_type": "code",
   "execution_count": 108,
   "metadata": {},
   "outputs": [],
   "source": [
    "# Model III: Random Forest Classifier: \n",
    "\n",
    "def ML_pipeline_kfold_GridSearchCV_rf(X,y,random_state,n_folds):\n",
    "    # create a test set\n",
    "    X_other, X_test, y_other, y_test = train_test_split(X, y, test_size=0.2, random_state = random_state)\n",
    "    # splitter for _other\n",
    "    kf = KFold(n_splits=n_folds,shuffle=True,random_state=random_state)\n",
    "    \n",
    "    cat_ftrs = ['school','sex','address','Pstatus','famsize','schoolsup','famsup','paid','activities','nursery',\n",
    "                    'Mjob', 'Fjob','reason', 'guardian', 'higher', 'internet', 'romantic']\n",
    "    ordinal_ftrs = ['Medu', 'Fedu', 'health','freetime', 'goout','famrel' 'Dalc', 'Walc', \n",
    "                'traveltime','studytime', 'failures'] #already pre processd\n",
    "    num_ftrs = ['age','absences']\n",
    "    label = ['G3']\n",
    "    \n",
    "    cat_ftrs_i = [df.columns.get_loc(x) for x in cat_ftrs]\n",
    "    num_ftrs_i = [df.columns.get_loc(x) for x in num_ftrs]\n",
    "\n",
    "    categorical_transformer = Pipeline(steps=[('onehot', OneHotEncoder(sparse=False))])\n",
    "    numeric_transformer = Pipeline(steps=[('scaler', StandardScaler())])\n",
    "    \n",
    "    # collect the transformers\n",
    "    preprocessor = ColumnTransformer(\n",
    "        transformers=[\n",
    "            ('num', numeric_transformer, num_ftrs_i),\n",
    "            ('cat', categorical_transformer, cat_ftrs_i)])\n",
    "\n",
    "    pipe = make_pipeline(preprocessor, RandomForestClassifier(n_estimators =  100,random_state=random_state))\n",
    "\n",
    "    # the parameter(s) we want to tune\n",
    "    param_grid = {'randomforestclassifier__max_depth': range(1,30,5),\n",
    "                  'randomforestclassifier__min_samples_split': range(2,20,5)} \n",
    "    # prepare gridsearch\n",
    "    grid = GridSearchCV(pipe, param_grid=param_grid,scoring = make_scorer(accuracy_score),\n",
    "                        cv=kf, return_train_score = True,iid=True)\n",
    "    # do kfold CV on _other\n",
    "    grid.fit(X_other, y_other)\n",
    "    \n",
    "    feature_names = num_ftrs + \\\n",
    "                list(grid.best_estimator_[0].named_transformers_['cat'][0].get_feature_names(cat_ftrs))\n",
    "    return grid, grid.score(X_test, y_test), np.array(feature_names), X_test, y_test\n",
    "    \n",
    "    "
   ]
  },
  {
   "cell_type": "code",
   "execution_count": 109,
   "metadata": {},
   "outputs": [
    {
     "name": "stdout",
     "output_type": "stream",
     "text": [
      "{'randomforestclassifier__max_depth': 1, 'randomforestclassifier__min_samples_split': 2}\n",
      "best CV score: 0.6835443037974683\n",
      "test score: 0.620253164556962\n",
      "{'randomforestclassifier__max_depth': 11, 'randomforestclassifier__min_samples_split': 7}\n",
      "best CV score: 0.6930379746835443\n",
      "test score: 0.620253164556962\n",
      "{'randomforestclassifier__max_depth': 6, 'randomforestclassifier__min_samples_split': 7}\n",
      "best CV score: 0.6677215189873418\n",
      "test score: 0.6962025316455697\n",
      "{'randomforestclassifier__max_depth': 6, 'randomforestclassifier__min_samples_split': 2}\n",
      "best CV score: 0.680379746835443\n",
      "test score: 0.6708860759493671\n",
      "{'randomforestclassifier__max_depth': 1, 'randomforestclassifier__min_samples_split': 2}\n",
      "best CV score: 0.6487341772151899\n",
      "test score: 0.759493670886076\n",
      "{'randomforestclassifier__max_depth': 1, 'randomforestclassifier__min_samples_split': 2}\n",
      "best CV score: 0.6645569620253164\n",
      "test score: 0.6962025316455697\n",
      "{'randomforestclassifier__max_depth': 11, 'randomforestclassifier__min_samples_split': 12}\n",
      "best CV score: 0.6708860759493671\n",
      "test score: 0.6962025316455697\n",
      "{'randomforestclassifier__max_depth': 6, 'randomforestclassifier__min_samples_split': 7}\n",
      "best CV score: 0.7088607594936709\n",
      "test score: 0.5443037974683544\n",
      "{'randomforestclassifier__max_depth': 11, 'randomforestclassifier__min_samples_split': 2}\n",
      "best CV score: 0.6613924050632911\n",
      "test score: 0.7341772151898734\n",
      "{'randomforestclassifier__max_depth': 1, 'randomforestclassifier__min_samples_split': 2}\n",
      "best CV score: 0.6550632911392406\n",
      "test score: 0.7341772151898734\n",
      "test accuracy: 0.6772151898734178 +/- 0.06207696119108472\n"
     ]
    }
   ],
   "source": [
    "test_scores = []\n",
    "for i in range(10):\n",
    "    grid, test_score, feature_name, X_test, y_test = ML_pipeline_kfold_GridSearchCV_rf(X,y,i*42,5)\n",
    "    print(grid.best_params_)\n",
    "    print('best CV score:',grid.best_score_)\n",
    "    print('test score:',test_score)\n",
    "    \n",
    "    test_scores.append(test_score)\n",
    "print('test accuracy:',np.mean(test_scores),'+/-',np.std(test_scores))"
   ]
  },
  {
   "cell_type": "code",
   "execution_count": 110,
   "metadata": {},
   "outputs": [
    {
     "name": "stdout",
     "output_type": "stream",
     "text": [
      "0.6550632911392406\n",
      "0.7341772151898734\n",
      "{'randomforestclassifier__max_depth': 1, 'randomforestclassifier__min_samples_split': 2}\n"
     ]
    }
   ],
   "source": [
    "grid, test_score, feature_names, X_test, y_test= ML_pipeline_kfold_GridSearchCV_rf(X,y,7*19,5)\n",
    "print(grid.best_score_)\n",
    "print(grid.score(X_test,y_test))\n",
    "print(grid.best_params_)"
   ]
  },
  {
   "cell_type": "code",
   "execution_count": null,
   "metadata": {},
   "outputs": [],
   "source": []
  },
  {
   "cell_type": "code",
   "execution_count": 111,
   "metadata": {},
   "outputs": [],
   "source": [
    "#Model II SVC:\n",
    "from sklearn.svm import SVC\n",
    "from sklearn.metrics import accuracy_score\n",
    "from sklearn.model_selection import StratifiedKFold\n",
    "def ML_pipeline_kfold_GridSearchCV_svc(X,y,random_state,n_folds):\n",
    "    # create a test set\n",
    "    X_other, X_test, y_other, y_test = train_test_split(X, y, test_size=0.2, random_state = random_state)\n",
    "    # splitter for _other\n",
    "    kf = KFold(n_splits=n_folds,shuffle=True,random_state=random_state)\n",
    "    \n",
    "    cat_ftrs = ['school','sex','address','Pstatus','famsize','schoolsup','famsup','paid','activities','nursery',\n",
    "                    'Mjob', 'Fjob','reason', 'guardian', 'higher', 'internet', 'romantic']\n",
    "    ordinal_ftrs = ['Medu', 'Fedu', 'health','freetime', 'goout','famrel' 'Dalc', 'Walc', \n",
    "                'traveltime','studytime', 'failures'] #already pre processd\n",
    "    num_ftrs = ['age','absences']\n",
    "    label = ['G3']\n",
    "    \n",
    "    cat_ftrs_i = [df.columns.get_loc(x) for x in cat_ftrs]\n",
    "    num_ftrs_i = [df.columns.get_loc(x) for x in num_ftrs]\n",
    "\n",
    "    categorical_transformer = Pipeline(steps=[('onehot', OneHotEncoder(sparse=False))])\n",
    "    numeric_transformer = Pipeline(steps=[('scaler', StandardScaler())])\n",
    "    \n",
    "    # collect the transformers\n",
    "    preprocessor = ColumnTransformer(\n",
    "        transformers=[\n",
    "            ('num', numeric_transformer, num_ftrs_i),\n",
    "            ('cat', categorical_transformer, cat_ftrs_i)])\n",
    "\n",
    "    pipe = make_pipeline(preprocessor,SVC(random_state = 20))\n",
    "\n",
    "    # the parameter(s) we want to tune\n",
    "    param_grid = {'svc__C': [0.001, 0.01, 0.1, 1, 10, 100, 1000, 10000],'svc__gamma': [0.00001, 0.0001, 0.001, 0.01, 0.1, 1, 10, 100, 1000]} \n",
    "    # prepare gridsearch\n",
    "    grid = GridSearchCV(pipe, param_grid=param_grid,scoring = make_scorer(accuracy_score),\n",
    "                        cv=kf, return_train_score = True,iid=True)\n",
    "    # do kfold CV on _other\n",
    "    grid.fit(X_other, y_other)\n",
    "    \n",
    "    feature_names = num_ftrs + \\\n",
    "                list(grid.best_estimator_[0].named_transformers_['cat'][0].get_feature_names(cat_ftrs))\n",
    "    return grid, grid.score(X_test, y_test), np.array(feature_names), X_test, y_test"
   ]
  },
  {
   "cell_type": "code",
   "execution_count": 112,
   "metadata": {},
   "outputs": [
    {
     "name": "stdout",
     "output_type": "stream",
     "text": [
      "{'svc__C': 10, 'svc__gamma': 0.01}\n",
      "best CV score: 0.6867088607594937\n",
      "test score: 0.6329113924050633\n",
      "{'svc__C': 100, 'svc__gamma': 0.001}\n",
      "best CV score: 0.6867088607594937\n",
      "test score: 0.6329113924050633\n",
      "{'svc__C': 0.001, 'svc__gamma': 1e-05}\n",
      "best CV score: 0.6645569620253164\n",
      "test score: 0.6962025316455697\n",
      "{'svc__C': 0.001, 'svc__gamma': 1e-05}\n",
      "best CV score: 0.6772151898734177\n",
      "test score: 0.6455696202531646\n",
      "{'svc__C': 1, 'svc__gamma': 1}\n",
      "best CV score: 0.6550632911392406\n",
      "test score: 0.759493670886076\n",
      "{'svc__C': 1, 'svc__gamma': 1}\n",
      "best CV score: 0.6677215189873418\n",
      "test score: 0.6962025316455697\n",
      "{'svc__C': 0.001, 'svc__gamma': 1e-05}\n",
      "best CV score: 0.6613924050632911\n",
      "test score: 0.7088607594936709\n",
      "{'svc__C': 0.001, 'svc__gamma': 1e-05}\n",
      "best CV score: 0.7025316455696202\n",
      "test score: 0.5443037974683544\n",
      "{'svc__C': 1, 'svc__gamma': 1}\n",
      "best CV score: 0.6645569620253164\n",
      "test score: 0.7088607594936709\n",
      "{'svc__C': 0.001, 'svc__gamma': 1e-05}\n",
      "best CV score: 0.6550632911392406\n",
      "test score: 0.7341772151898734\n",
      "test accuracy: 0.6759493670886076 +/- 0.059426301743319\n"
     ]
    }
   ],
   "source": [
    "test_scores = []\n",
    "for i in range(10):\n",
    "    grid, test_score, feature_names, X_test, y_test = ML_pipeline_kfold_GridSearchCV_svc(X,y,i*42,5)\n",
    "    print(grid.best_params_)\n",
    "    print('best CV score:',grid.best_score_)\n",
    "    print('test score:',test_score)\n",
    "    test_scores.append(test_score)\n",
    "print('test accuracy:',np.mean(test_scores),'+/-',np.std(test_scores))"
   ]
  },
  {
   "cell_type": "code",
   "execution_count": 113,
   "metadata": {},
   "outputs": [
    {
     "name": "stdout",
     "output_type": "stream",
     "text": [
      "0.6582278481012658\n",
      "0.7215189873417721\n",
      "{'svc__C': 1, 'svc__gamma': 1}\n"
     ]
    }
   ],
   "source": [
    "grid, test_score, feature_names, X_test, y_test= ML_pipeline_kfold_GridSearchCV_svc(X,y,7*19,5)\n",
    "print(grid.best_score_)\n",
    "print(grid.score(X_test,y_test))\n",
    "print(grid.best_params_)"
   ]
  },
  {
   "cell_type": "markdown",
   "metadata": {},
   "source": []
  },
  {
   "cell_type": "code",
   "execution_count": 126,
   "metadata": {},
   "outputs": [],
   "source": [
    "## cehcking out features election modelI"
   ]
  },
  {
   "cell_type": "code",
   "execution_count": 127,
   "metadata": {},
   "outputs": [],
   "source": [
    "X = df.loc[:, df.columns != 'G3'].values\n",
    "y = df['G3'].values"
   ]
  },
  {
   "cell_type": "code",
   "execution_count": 134,
   "metadata": {},
   "outputs": [],
   "source": [
    "from sklearn.linear_model import LogisticRegression\n",
    "def ML_pipeline_kfold_LR1(X,y,random_state,n_folds):\n",
    "    # create a test set\n",
    "    X_other, X_test, y_other, y_test = train_test_split(X, y, test_size=0.2, random_state = random_state)\n",
    "    # splitter for _other\n",
    "    kf = StratifiedKFold(n_splits=n_folds,shuffle=True,random_state=random_state)\n",
    "    # create the pipeline: preprocessor + supervised ML method\n",
    "    cat_ftrs = ['school','sex','address','Pstatus','famsize','schoolsup','famsup','paid','activities','nursery',\n",
    "                    'Mjob', 'Fjob','reason', 'guardian', 'higher', 'internet', 'romantic']\n",
    "#     ordinal_ftrs = ['Medu', 'Fedu', 'health','freetime', 'goout','famrel' 'Dalc', 'Walc', \n",
    "#                     'traveltime','studytime', 'failures'] #already pre processd\n",
    "    num_ftrs = ['age','absences', 'G1','G2']\n",
    "    label = ['G3']\n",
    "    \n",
    "    cat_ftrs_i = [df.columns.get_loc(x) for x in cat_ftrs]\n",
    "    num_ftrs_i = [df.columns.get_loc(x) for x in num_ftrs]\n",
    "\n",
    "    categorical_transformer = Pipeline(steps=[('onehot', OneHotEncoder(sparse=False))])\n",
    "    numeric_transformer = Pipeline(steps=[('scaler', StandardScaler())])\n",
    "    \n",
    "    # collect the transformers\n",
    "    preprocessor = ColumnTransformer(\n",
    "        transformers=[\n",
    "            ('num', numeric_transformer, num_ftrs_i),\n",
    "            ('cat', categorical_transformer, cat_ftrs_i)])\n",
    "\n",
    "    pipe = make_pipeline(preprocessor,LogisticRegression(penalty='l2',solver='lbfgs'))\n",
    "    # the parameter(s) we want to tune\n",
    "    param_grid = {'logisticregression__C': [0.01, 0.1, 1, 10,100]}\n",
    "    # prepare gridsearch\n",
    "    grid = GridSearchCV(pipe, param_grid=param_grid,cv=kf, return_train_score = True,n_jobs=-1)\n",
    "    # do kfold CV on _other\n",
    "    grid.fit(X_other, y_other)\n",
    "    feature_names = num_ftrs + \\\n",
    "                list(grid.best_estimator_[0].named_transformers_['cat'][0].get_feature_names(cat_ftrs))\n",
    "    return grid, np.array(feature_names), X_test, y_test"
   ]
  },
  {
   "cell_type": "code",
   "execution_count": 135,
   "metadata": {},
   "outputs": [
    {
     "name": "stdout",
     "output_type": "stream",
     "text": [
      "test score: 0.9113924050632911\n"
     ]
    },
    {
     "data": {
      "image/png": "[encoded data removed]",
      "text/plain": [
       "<Figure size 432x288 with 1 Axes>"
      ]
     },
     "metadata": {
      "needs_background": "light"
     },
     "output_type": "display_data"
    }
   ],
   "source": [
    "grid, feature_names, X_test, y_test = ML_pipeline_kfold_LR1(X,y,42,4)\n",
    "print('test score:',grid.score(X_test,y_test))\n",
    "coefs = grid.best_estimator_[-1].coef_[0]\n",
    "sorted_indcs = np.argsort(np.abs(coefs))\n",
    "\n",
    "plt.rcParams.update({'font.size': 14})\n",
    "plt.barh(np.arange(10),coefs[sorted_indcs[-10:]])\n",
    "plt.yticks(np.arange(10),feature_names[sorted_indcs[-10:]])\n",
    "plt.xlabel('coefficient')\n",
    "plt.title('not all scaled')\n",
    "plt.tight_layout()\n",
    "plt.savefig('figures/LR_coefs_notscaled.png',dpi=300)\n",
    "plt.show()"
   ]
  },
  {
   "cell_type": "code",
   "execution_count": null,
   "metadata": {},
   "outputs": [],
   "source": [
    "def ML_pipeline_kfold_LR2(X,y,random_state,n_folds):\n",
    "    # create a test set\n",
    "    X_other, X_test, y_other, y_test = train_test_split(X, y, test_size=0.2, random_state = random_state)\n",
    "    # splitter for _other\n",
    "    kf = StratifiedKFold(n_splits=n_folds,shuffle=True,random_state=random_state)\n",
    "    # create the pipeline: preprocessor + supervised ML method\n",
    "    cat_ftrs = ['school','sex','address','Pstatus','famsize','schoolsup','famsup','paid','activities','nursery',\n",
    "                    'Mjob', 'Fjob','reason', 'guardian', 'higher', 'internet', 'romantic']\n",
    "#     ordinal_ftrs = ['Medu', 'Fedu', 'health','freetime', 'goout','famrel' 'Dalc', 'Walc', \n",
    "#                     'traveltime','studytime', 'failures'] #already pre processd\n",
    "    num_ftrs = ['age','absences', 'G1','G2']\n",
    "    label = ['G3']\n",
    "    \n",
    "    cat_ftrs_i = [df.columns.get_loc(x) for x in cat_ftrs]\n",
    "    num_ftrs_i = [df.columns.get_loc(x) for x in num_ftrs]\n",
    "\n",
    "    categorical_transformer = Pipeline(steps=[('onehot', OneHotEncoder(sparse=False))])\n",
    "    numeric_transformer = Pipeline(steps=[('scaler', StandardScaler())])\n",
    "      \n",
    "    \n",
    "    # collect the transformers\n",
    "    preprocessor = ColumnTransformer(\n",
    "        transformers=[\n",
    "            ('num', numeric_transformer, num_ftrs_i),\n",
    "            ('cat', categorical_transformer, cat_ftrs_i)])\n",
    "    final_scaler = StandardScaler()\n",
    "    pipe = make_pipeline(preprocessor,final_scaler,LogisticRegression(penalty='l2',solver='lbfgs'))\n",
    "    # the parameter(s) we want to tune\n",
    "    param_grid = {'logisticregression__C': [0.01, 0.1, 1, 10,100]}\n",
    "    # prepare gridsearch\n",
    "    grid = GridSearchCV(pipe, param_grid=param_grid,cv=kf, return_train_score = True,n_jobs=-1,verbose=10)\n",
    "    # do kfold CV on _other\n",
    "    grid.fit(X_other, y_other)\n",
    "    feature_names = num_ftrs + \\\n",
    "                list(grid.best_estimator_[0].named_transformers_['cat'][0].get_feature_names(cat_ftrs))\n",
    "    return grid, np.array(feature_names), X_test, y_test"
   ]
  },
  {
   "cell_type": "code",
   "execution_count": null,
   "metadata": {},
   "outputs": [],
   "source": [
    "grid, feature_names, X_test, y_test = ML_pipeline_kfold_LR2(X,y,42,4)\n",
    "print('test score:',grid.score(X_test,y_test))\n",
    "coefs = grid.best_estimator_[-1].coef_\n",
    "sorted_indcs = np.argsort(np.abs(coefs))\n",
    "\n",
    "plt.rcParams.update({'font.size': 14})\n",
    "plt.barh(np.arange(10),coefs[sorted_indcs[-10:]])\n",
    "plt.yticks(np.arange(10),feature_names[sorted_indcs[-10:]])\n",
    "plt.xlabel('coefficient')\n",
    "plt.title('all scaled')\n",
    "plt.tight_layout()\n",
    "# plt.savefig('figures/LR_coefs_scaled.png',dpi=300)\n",
    "plt.show()"
   ]
  },
  {
   "cell_type": "code",
   "execution_count": null,
   "metadata": {},
   "outputs": [],
   "source": [
    "#model ii"
   ]
  },
  {
   "cell_type": "code",
   "execution_count": 145,
   "metadata": {},
   "outputs": [],
   "source": [
    "df1 = df.drop(['G2'], axis=1)"
   ]
  },
  {
   "cell_type": "code",
   "execution_count": 146,
   "metadata": {},
   "outputs": [],
   "source": [
    "X = df1.loc[:, df1.columns != 'G3'].values\n",
    "y = df1['G3'].values"
   ]
  },
  {
   "cell_type": "code",
   "execution_count": 147,
   "metadata": {},
   "outputs": [],
   "source": [
    "from sklearn.linear_model import LogisticRegression\n",
    "def ML_pipeline_kfold_LR1(X,y,random_state,n_folds):\n",
    "    # create a test set\n",
    "    X_other, X_test, y_other, y_test = train_test_split(X, y, test_size=0.2, random_state = random_state)\n",
    "    # splitter for _other\n",
    "    kf = StratifiedKFold(n_splits=n_folds,shuffle=True,random_state=random_state)\n",
    "    # create the pipeline: preprocessor + supervised ML method\n",
    "    cat_ftrs = ['school','sex','address','Pstatus','famsize','schoolsup','famsup','paid','activities','nursery',\n",
    "                    'Mjob', 'Fjob','reason', 'guardian', 'higher', 'internet', 'romantic']\n",
    "#     ordinal_ftrs = ['Medu', 'Fedu', 'health','freetime', 'goout','famrel' 'Dalc', 'Walc', \n",
    "#                     'traveltime','studytime', 'failures'] #already pre processd\n",
    "    num_ftrs = ['age','absences', 'G1']\n",
    "    label = ['G3']\n",
    "    \n",
    "    cat_ftrs_i = [df.columns.get_loc(x) for x in cat_ftrs]\n",
    "    num_ftrs_i = [df.columns.get_loc(x) for x in num_ftrs]\n",
    "\n",
    "    categorical_transformer = Pipeline(steps=[('onehot', OneHotEncoder(sparse=False))])\n",
    "    numeric_transformer = Pipeline(steps=[('scaler', StandardScaler())])\n",
    "    \n",
    "    # collect the transformers\n",
    "    preprocessor = ColumnTransformer(\n",
    "        transformers=[\n",
    "            ('num', numeric_transformer, num_ftrs_i),\n",
    "            ('cat', categorical_transformer, cat_ftrs_i)])\n",
    "\n",
    "    pipe = make_pipeline(preprocessor,LogisticRegression(penalty='l2',solver='lbfgs'))\n",
    "    # the parameter(s) we want to tune\n",
    "    param_grid = {'logisticregression__C': [0.01, 0.1, 1, 10,100]}\n",
    "    # prepare gridsearch\n",
    "    grid = GridSearchCV(pipe, param_grid=param_grid,cv=kf, return_train_score = True,n_jobs=-1)\n",
    "    # do kfold CV on _other\n",
    "    grid.fit(X_other, y_other)\n",
    "    feature_names = num_ftrs + \\\n",
    "                list(grid.best_estimator_[0].named_transformers_['cat'][0].get_feature_names(cat_ftrs))\n",
    "    return grid, np.array(feature_names), X_test, y_test"
   ]
  },
  {
   "cell_type": "code",
   "execution_count": 148,
   "metadata": {},
   "outputs": [
    {
     "name": "stderr",
     "output_type": "stream",
     "text": [
      "/opt/conda/lib/python3.7/site-packages/sklearn/model_selection/_search.py:814: DeprecationWarning: The default of the `iid` parameter will change from True to False in version 0.22 and will be removed in 0.24. This will change numeric results when test-set sizes are unequal.\n",
      "  DeprecationWarning)\n"
     ]
    },
    {
     "name": "stdout",
     "output_type": "stream",
     "text": [
      "test score: 0.8227848101265823\n"
     ]
    },
    {
     "data": {
      "image/png": "[encoded data removed]",
      "text/plain": [
       "<Figure size 432x288 with 1 Axes>"
      ]
     },
     "metadata": {
      "needs_background": "light"
     },
     "output_type": "display_data"
    }
   ],
   "source": [
    "grid, feature_names, X_test, y_test = ML_pipeline_kfold_LR1(X,y,42,4)\n",
    "print('test score:',grid.score(X_test,y_test))\n",
    "coefs = grid.best_estimator_[-1].coef_[0]\n",
    "sorted_indcs = np.argsort(np.abs(coefs))\n",
    "\n",
    "plt.rcParams.update({'font.size': 14})\n",
    "plt.barh(np.arange(10),coefs[sorted_indcs[-10:]])\n",
    "plt.yticks(np.arange(10),feature_names[sorted_indcs[-10:]])\n",
    "plt.xlabel('coefficient')\n",
    "plt.title('not all scaled')\n",
    "plt.tight_layout()\n",
    "plt.savefig('figures/LR_coefs_notscaled.png',dpi=300)\n",
    "plt.show()"
   ]
  },
  {
   "cell_type": "code",
   "execution_count": null,
   "metadata": {},
   "outputs": [],
   "source": [
    "# model iii:\n"
   ]
  },
  {
   "cell_type": "code",
   "execution_count": 149,
   "metadata": {},
   "outputs": [],
   "source": [
    "df2 = df1.drop(['G1'], axis=1)"
   ]
  },
  {
   "cell_type": "code",
   "execution_count": 150,
   "metadata": {},
   "outputs": [],
   "source": [
    "X = df2.loc[:, df2.columns != 'G3'].values\n",
    "y = df2['G3'].values"
   ]
  },
  {
   "cell_type": "code",
   "execution_count": 153,
   "metadata": {},
   "outputs": [],
   "source": [
    "from sklearn.linear_model import LogisticRegression\n",
    "def ML_pipeline_kfold_LR1(X,y,random_state,n_folds):\n",
    "    # create a test set\n",
    "    X_other, X_test, y_other, y_test = train_test_split(X, y, test_size=0.2, random_state = random_state)\n",
    "    # splitter for _other\n",
    "    kf = StratifiedKFold(n_splits=n_folds,shuffle=True,random_state=random_state)\n",
    "    # create the pipeline: preprocessor + supervised ML method\n",
    "    cat_ftrs = ['school','sex','address','Pstatus','famsize','schoolsup','famsup','paid','activities','nursery',\n",
    "                    'Mjob', 'Fjob','reason', 'guardian', 'higher', 'internet', 'romantic']\n",
    "#     ordinal_ftrs = ['Medu', 'Fedu', 'health','freetime', 'goout','famrel' 'Dalc', 'Walc', \n",
    "#                     'traveltime','studytime', 'failures'] #already pre processd\n",
    "    num_ftrs = ['age','absences']\n",
    "    label = ['G3']\n",
    "    \n",
    "    cat_ftrs_i = [df.columns.get_loc(x) for x in cat_ftrs]\n",
    "    num_ftrs_i = [df.columns.get_loc(x) for x in num_ftrs]\n",
    "\n",
    "    categorical_transformer = Pipeline(steps=[('onehot', OneHotEncoder(sparse=False))])\n",
    "    numeric_transformer = Pipeline(steps=[('scaler', StandardScaler())])\n",
    "    \n",
    "    # collect the transformers\n",
    "    preprocessor = ColumnTransformer(\n",
    "        transformers=[\n",
    "            ('num', numeric_transformer, num_ftrs_i),\n",
    "            ('cat', categorical_transformer, cat_ftrs_i)])\n",
    "\n",
    "    pipe = make_pipeline(preprocessor,LogisticRegression(penalty='l2',solver='lbfgs'))\n",
    "    # the parameter(s) we want to tune\n",
    "    param_grid = {'logisticregression__C': [0.01, 0.1, 1, 10,100]}\n",
    "    # prepare gridsearch\n",
    "    grid = GridSearchCV(pipe, param_grid=param_grid,cv=kf, return_train_score = True,n_jobs=-1)\n",
    "    # do kfold CV on _other\n",
    "    grid.fit(X_other, y_other)\n",
    "    feature_names = num_ftrs + \\\n",
    "                list(grid.best_estimator_[0].named_transformers_['cat'][0].get_feature_names(cat_ftrs))\n",
    "    return grid, np.array(feature_names), X_test, y_test"
   ]
  },
  {
   "cell_type": "code",
   "execution_count": 154,
   "metadata": {},
   "outputs": [
    {
     "name": "stdout",
     "output_type": "stream",
     "text": [
      "test score: 0.6582278481012658\n"
     ]
    },
    {
     "data": {
      "image/png": "[encoded data removed]",
      "text/plain": [
       "<Figure size 432x288 with 1 Axes>"
      ]
     },
     "metadata": {
      "needs_background": "light"
     },
     "output_type": "display_data"
    }
   ],
   "source": [
    "grid, feature_names, X_test, y_test = ML_pipeline_kfold_LR1(X,y,42,4)\n",
    "print('test score:',grid.score(X_test,y_test))\n",
    "coefs = grid.best_estimator_[-1].coef_[0]\n",
    "sorted_indcs = np.argsort(np.abs(coefs))\n",
    "\n",
    "plt.rcParams.update({'font.size': 14})\n",
    "plt.barh(np.arange(10),coefs[sorted_indcs[-10:]])\n",
    "plt.yticks(np.arange(10),feature_names[sorted_indcs[-10:]])\n",
    "plt.xlabel('coefficient')\n",
    "plt.title('not all scaled')\n",
    "plt.tight_layout()\n",
    "plt.savefig('figures/LR_coefs_notscaled.png',dpi=300)\n",
    "plt.show()"
   ]
  },
  {
   "cell_type": "code",
   "execution_count": 31,
   "metadata": {},
   "outputs": [
    {
     "name": "stdout",
     "output_type": "stream",
     "text": [
      "balance: 0.6708860759493671\n"
     ]
    },
    {
     "data": {
      "text/plain": [
       "(395, 32)"
      ]
     },
     "execution_count": 31,
     "metadata": {},
     "output_type": "execute_result"
    }
   ],
   "source": [
    "X = df.loc[:, df.columns != 'G3'].values\n",
    "y = df['G3'].values\n",
    "\n",
    "classes, counts = np.unique(y,return_counts=True)\n",
    "print('balance:',np.max(counts/len(y)))\n",
    "X.shape"
   ]
  },
  {
   "cell_type": "code",
   "execution_count": null,
   "metadata": {},
   "outputs": [],
   "source": [
    "\n",
    "y = LabelEncoder().fit_transform(df[label])\n",
    "df.drop(columns=[label],inplace=True)\n",
    "X = df\n",
    "ftr_names = X.columns\n",
    "\n",
    "X_train, X_test, y_train, y_test = train_test_split(X, y, test_size = 0.2)\n",
    "\n",
    "# print(X.head())\n",
    "# print(y)\n",
    "rf = RandomForestClassifier(bootstrap=True, class_weight=None,\n",
    "                                        criterion='gini', max_depth=10,\n",
    "                                        max_features='auto',\n",
    "                                        max_leaf_nodes=None,\n",
    "                                        min_impurity_decrease=0.0,\n",
    "                                        min_impurity_split=None,\n",
    "                                        min_samples_leaf=1, min_samples_split=2,\n",
    "                                        min_weight_fraction_leaf=0.0,\n",
    "                                        n_estimators=10, n_jobs=None,\n",
    "                                        oob_score=False, random_state=20,\n",
    "                                        verbose=0, warm_start=False)\n",
    "\n",
    "rf.fit(X_train, y_train)  \n",
    "print(rf.feature_importances_)\n",
    "importances = rf.feature_importances_\n",
    "indices = np.argsort(importances)\n",
    "features = X_train.columns\n",
    "plt.title('Feature Importances')\n",
    "plt.barh(range(len(indices)), importances[indices], color='b', align='center')\n",
    "plt.yticks(range(len(indices)), [features[i] for i in indices])\n",
    "plt.xlabel('Relative Importance')\n",
    "plt.show()"
   ]
  },
  {
   "cell_type": "code",
   "execution_count": null,
   "metadata": {},
   "outputs": [],
   "source": [
    "importances = grid.best_estimator_[1].feature_importances_\n",
    "indices = np.argsort(importance)\n",
    "features = feau\n",
    "plt.barh(range(len(indices)), importances[indices], color='b', align='center')\n",
    "plt.yticks(range(len(indices)), [features[i] for i in indices])\n",
    "plt.xlabel('Relative Importance')\n",
    "plt.show()"
   ]
  }
 ],
 "metadata": {
  "kernelspec": {
   "display_name": "Python 3",
   "language": "python",
   "name": "python3"
  },
  "language_info": {
   "codemirror_mode": {
    "name": "ipython",
    "version": 3
   },
   "file_extension": ".py",
   "mimetype": "text/x-python",
   "name": "python",
   "nbconvert_exporter": "python",
   "pygments_lexer": "ipython3",
   "version": "3.7.3"
  }
 },
 "nbformat": 4,
 "nbformat_minor": 4
}
